{
 "cells": [
  {
   "cell_type": "markdown",
   "metadata": {
    "id": "ri-daDH9S06M"
   },
   "source": [
    "# Import libraries, setting global variables"
   ]
  },
  {
   "cell_type": "code",
   "execution_count": 1,
   "metadata": {
    "executionInfo": {
     "elapsed": 4289,
     "status": "ok",
     "timestamp": 1742739536630,
     "user": {
      "displayName": "Danila Danilkin",
      "userId": "14833152738223051599"
     },
     "user_tz": -60
    },
    "id": "dQhGDgStSfm9"
   },
   "outputs": [],
   "source": [
    "import pandas as pd\n",
    "import numpy as np\n",
    "import requests\n",
    "from bs4 import BeautifulSoup\n",
    "import os\n",
    "import json\n",
    "import re"
   ]
  },
  {
   "cell_type": "code",
   "execution_count": 2,
   "metadata": {
    "executionInfo": {
     "elapsed": 29,
     "status": "ok",
     "timestamp": 1742739536661,
     "user": {
      "displayName": "Danila Danilkin",
      "userId": "14833152738223051599"
     },
     "user_tz": -60
    },
    "id": "eCF6wGAFTFt2"
   },
   "outputs": [],
   "source": [
    "ENV = \"colab\" #or jn for work on local machine\n",
    "\n",
    "if ENV == \"colab\":\n",
    "  DATA_PATH = \"/content/drive/MyDrive/infa/elsefiles/\"\n",
    "elif ENV == \"jn\":\n",
    "  DATA_PATH = \"C:/Users/danil/Desktop/infa analog/datas\""
   ]
  },
  {
   "cell_type": "markdown",
   "metadata": {
    "id": "C5sYC_muS5Jk"
   },
   "source": [
    "# Get models to parse"
   ]
  },
  {
   "cell_type": "code",
   "execution_count": 5,
   "metadata": {
    "executionInfo": {
     "elapsed": 483,
     "status": "ok",
     "timestamp": 1742739633809,
     "user": {
      "displayName": "Danila Danilkin",
      "userId": "14833152738223051599"
     },
     "user_tz": -60
    },
    "id": "LDWwFS45gQjt"
   },
   "outputs": [],
   "source": [
    "#brands for analysis was taken from browsing page of auto.ru\n",
    "brands = pd.read_csv(os.path.join(DATA_PATH, \"brands_number.csv\"))"
   ]
  },
  {
   "cell_type": "code",
   "execution_count": 6,
   "metadata": {
    "executionInfo": {
     "elapsed": 7,
     "status": "ok",
     "timestamp": 1742739640029,
     "user": {
      "displayName": "Danila Danilkin",
      "userId": "14833152738223051599"
     },
     "user_tz": -60
    },
    "id": "lG2VxqqLg6hx"
   },
   "outputs": [],
   "source": [
    "pd.set_option('display.max_rows', 20)"
   ]
  },
  {
   "cell_type": "code",
   "execution_count": 7,
   "metadata": {
    "executionInfo": {
     "elapsed": 4,
     "status": "ok",
     "timestamp": 1742739642854,
     "user": {
      "displayName": "Danila Danilkin",
      "userId": "14833152738223051599"
     },
     "user_tz": -60
    },
    "id": "2_0LaDTXhqP3"
   },
   "outputs": [],
   "source": [
    "ru_brands = [\"Lada (ВАЗ)\", \"УАЗ\", \"ГАЗ\", \"Москвич\", \"ЗАЗ\", \"Xcite\", \"Knewstar\", \"Tank\"]"
   ]
  },
  {
   "cell_type": "code",
   "execution_count": 8,
   "metadata": {
    "executionInfo": {
     "elapsed": 30,
     "status": "ok",
     "timestamp": 1742739645487,
     "user": {
      "displayName": "Danila Danilkin",
      "userId": "14833152738223051599"
     },
     "user_tz": -60
    },
    "id": "E4aKRrFWguYN"
   },
   "outputs": [],
   "source": [
    "#We'll take only foregins brands which has more than 1000 placements\n",
    "final_brands = brands[(brands['number of models'] >= 1000) & (~brands[\"brand\"].isin(ru_brands))].sort_values('number of models', ascending=False)"
   ]
  },
  {
   "cell_type": "code",
   "execution_count": 9,
   "metadata": {
    "executionInfo": {
     "elapsed": 2560,
     "status": "ok",
     "timestamp": 1742739649566,
     "user": {
      "displayName": "Danila Danilkin",
      "userId": "14833152738223051599"
     },
     "user_tz": -60
    },
    "id": "LD0gKoCMzo1q"
   },
   "outputs": [],
   "source": [
    "url = \"https://auto.ru/cars/all/\"\n",
    "t = requests.get(url)\n",
    "soup = BeautifulSoup(t.content, \"html.parser\")"
   ]
  },
  {
   "cell_type": "code",
   "execution_count": 10,
   "metadata": {
    "executionInfo": {
     "elapsed": 55,
     "status": "ok",
     "timestamp": 1742739650357,
     "user": {
      "displayName": "Danila Danilkin",
      "userId": "14833152738223051599"
     },
     "user_tz": -60
    },
    "id": "NwmdIBog0Jo9"
   },
   "outputs": [],
   "source": [
    "#Getting url that shows ads with filter on brand\n",
    "brand_urls = list(map(lambda x: x[\"href\"], filter(lambda x: x.text in final_brands[\"brand\"].values, soup.find_all(\"a\", \"Link ListingPopularMMM__itemName\"))))\n",
    "brand_names = list(map(lambda x: x.text, filter(lambda x: x.text in final_brands[\"brand\"].values, soup.find_all(\"a\", \"Link ListingPopularMMM__itemName\"))))\n",
    "final_brands = final_brands.merge(pd.DataFrame({\"brand\": brand_names, \"url\": brand_urls}), on=\"brand\")"
   ]
  },
  {
   "cell_type": "code",
   "execution_count": 11,
   "metadata": {
    "colab": {
     "base_uri": "https://localhost:8080/"
    },
    "executionInfo": {
     "elapsed": 87729,
     "status": "ok",
     "timestamp": 1742739740351,
     "user": {
      "displayName": "Danila Danilkin",
      "userId": "14833152738223051599"
     },
     "user_tz": -60
    },
    "id": "mlMC-hLn1ycs",
    "outputId": "7e2a27d9-3f17-446f-8794-6cc5caa6287c"
   },
   "outputs": [
    {
     "name": "stdout",
     "output_type": "stream",
     "text": [
      "1775\n"
     ]
    }
   ],
   "source": [
    "#Adding to fdataframe count of ads\n",
    "model_urls = []\n",
    "model_names = []\n",
    "for brand_url in brand_urls:\n",
    "  soup = BeautifulSoup(requests.get(brand_url).content, \"html.parser\")\n",
    "  model_urls += list(map(lambda x: x[\"href\"], soup.find_all(\"a\", \"Link ListingPopularMMM__itemName\")))\n",
    "  model_names += list(map(lambda x: x.text, soup.find_all(\"a\", \"Link ListingPopularMMM__itemName\")))\n",
    "print(len(model_urls))"
   ]
  },
  {
   "cell_type": "code",
   "execution_count": 12,
   "metadata": {
    "colab": {
     "base_uri": "https://localhost:8080/",
     "height": 423
    },
    "executionInfo": {
     "elapsed": 40,
     "status": "ok",
     "timestamp": 1742739740381,
     "user": {
      "displayName": "Danila Danilkin",
      "userId": "14833152738223051599"
     },
     "user_tz": -60
    },
    "id": "Lz7FdwHA1yZ0",
    "outputId": "950830b2-dd60-43ba-e262-ec809700392c"
   },
   "outputs": [
    {
     "data": {
      "application/vnd.google.colaboratory.intrinsic+json": {
       "summary": "{\n  \"name\": \"final_brands\",\n  \"rows\": 52,\n  \"fields\": [\n    {\n      \"column\": \"brand\",\n      \"properties\": {\n        \"dtype\": \"string\",\n        \"num_unique_values\": 52,\n        \"samples\": [\n          \"Opel\",\n          \"Livan\",\n          \"Jaguar\"\n        ],\n        \"semantic_type\": \"\",\n        \"description\": \"\"\n      }\n    },\n    {\n      \"column\": \"number of models\",\n      \"properties\": {\n        \"dtype\": \"number\",\n        \"std\": 11287,\n        \"min\": 1033,\n        \"max\": 50503,\n        \"num_unique_values\": 52,\n        \"samples\": [\n          11097,\n          1663,\n          1202\n        ],\n        \"semantic_type\": \"\",\n        \"description\": \"\"\n      }\n    },\n    {\n      \"column\": \"url\",\n      \"properties\": {\n        \"dtype\": \"string\",\n        \"num_unique_values\": 52,\n        \"samples\": [\n          \"https://auto.ru/cars/opel/all/\",\n          \"https://auto.ru/cars/livan/all/\",\n          \"https://auto.ru/cars/jaguar/all/\"\n        ],\n        \"semantic_type\": \"\",\n        \"description\": \"\"\n      }\n    }\n  ]\n}",
       "type": "dataframe",
       "variable_name": "final_brands"
      },
      "text/html": [
       "\n",
       "  <div id=\"df-a3cbd135-b7b1-433b-ac5a-953cc84e55a2\" class=\"colab-df-container\">\n",
       "    <div>\n",
       "<style scoped>\n",
       "    .dataframe tbody tr th:only-of-type {\n",
       "        vertical-align: middle;\n",
       "    }\n",
       "\n",
       "    .dataframe tbody tr th {\n",
       "        vertical-align: top;\n",
       "    }\n",
       "\n",
       "    .dataframe thead th {\n",
       "        text-align: right;\n",
       "    }\n",
       "</style>\n",
       "<table border=\"1\" class=\"dataframe\">\n",
       "  <thead>\n",
       "    <tr style=\"text-align: right;\">\n",
       "      <th></th>\n",
       "      <th>brand</th>\n",
       "      <th>number of models</th>\n",
       "      <th>url</th>\n",
       "    </tr>\n",
       "  </thead>\n",
       "  <tbody>\n",
       "    <tr>\n",
       "      <th>0</th>\n",
       "      <td>Toyota</td>\n",
       "      <td>50503</td>\n",
       "      <td>https://auto.ru/cars/toyota/all/</td>\n",
       "    </tr>\n",
       "    <tr>\n",
       "      <th>1</th>\n",
       "      <td>Kia</td>\n",
       "      <td>34503</td>\n",
       "      <td>https://auto.ru/cars/kia/all/</td>\n",
       "    </tr>\n",
       "    <tr>\n",
       "      <th>2</th>\n",
       "      <td>BMW</td>\n",
       "      <td>31618</td>\n",
       "      <td>https://auto.ru/cars/bmw/all/</td>\n",
       "    </tr>\n",
       "    <tr>\n",
       "      <th>3</th>\n",
       "      <td>Hyundai</td>\n",
       "      <td>31348</td>\n",
       "      <td>https://auto.ru/cars/hyundai/all/</td>\n",
       "    </tr>\n",
       "    <tr>\n",
       "      <th>4</th>\n",
       "      <td>Mercedes-Benz</td>\n",
       "      <td>29566</td>\n",
       "      <td>https://auto.ru/cars/mercedes/all/</td>\n",
       "    </tr>\n",
       "    <tr>\n",
       "      <th>...</th>\n",
       "      <td>...</td>\n",
       "      <td>...</td>\n",
       "      <td>...</td>\n",
       "    </tr>\n",
       "    <tr>\n",
       "      <th>47</th>\n",
       "      <td>Jaguar</td>\n",
       "      <td>1202</td>\n",
       "      <td>https://auto.ru/cars/jaguar/all/</td>\n",
       "    </tr>\n",
       "    <tr>\n",
       "      <th>48</th>\n",
       "      <td>Datsun</td>\n",
       "      <td>1195</td>\n",
       "      <td>https://auto.ru/cars/datsun/all/</td>\n",
       "    </tr>\n",
       "    <tr>\n",
       "      <th>49</th>\n",
       "      <td>Dodge</td>\n",
       "      <td>1118</td>\n",
       "      <td>https://auto.ru/cars/dodge/all/</td>\n",
       "    </tr>\n",
       "    <tr>\n",
       "      <th>50</th>\n",
       "      <td>Tesla</td>\n",
       "      <td>1045</td>\n",
       "      <td>https://auto.ru/cars/tesla/all/</td>\n",
       "    </tr>\n",
       "    <tr>\n",
       "      <th>51</th>\n",
       "      <td>FAW</td>\n",
       "      <td>1033</td>\n",
       "      <td>https://auto.ru/cars/faw/all/</td>\n",
       "    </tr>\n",
       "  </tbody>\n",
       "</table>\n",
       "<p>52 rows × 3 columns</p>\n",
       "</div>\n",
       "    <div class=\"colab-df-buttons\">\n",
       "\n",
       "  <div class=\"colab-df-container\">\n",
       "    <button class=\"colab-df-convert\" onclick=\"convertToInteractive('df-a3cbd135-b7b1-433b-ac5a-953cc84e55a2')\"\n",
       "            title=\"Convert this dataframe to an interactive table.\"\n",
       "            style=\"display:none;\">\n",
       "\n",
       "  <svg xmlns=\"http://www.w3.org/2000/svg\" height=\"24px\" viewBox=\"0 -960 960 960\">\n",
       "    <path d=\"M120-120v-720h720v720H120Zm60-500h600v-160H180v160Zm220 220h160v-160H400v160Zm0 220h160v-160H400v160ZM180-400h160v-160H180v160Zm440 0h160v-160H620v160ZM180-180h160v-160H180v160Zm440 0h160v-160H620v160Z\"/>\n",
       "  </svg>\n",
       "    </button>\n",
       "\n",
       "  <style>\n",
       "    .colab-df-container {\n",
       "      display:flex;\n",
       "      gap: 12px;\n",
       "    }\n",
       "\n",
       "    .colab-df-convert {\n",
       "      background-color: #E8F0FE;\n",
       "      border: none;\n",
       "      border-radius: 50%;\n",
       "      cursor: pointer;\n",
       "      display: none;\n",
       "      fill: #1967D2;\n",
       "      height: 32px;\n",
       "      padding: 0 0 0 0;\n",
       "      width: 32px;\n",
       "    }\n",
       "\n",
       "    .colab-df-convert:hover {\n",
       "      background-color: #E2EBFA;\n",
       "      box-shadow: 0px 1px 2px rgba(60, 64, 67, 0.3), 0px 1px 3px 1px rgba(60, 64, 67, 0.15);\n",
       "      fill: #174EA6;\n",
       "    }\n",
       "\n",
       "    .colab-df-buttons div {\n",
       "      margin-bottom: 4px;\n",
       "    }\n",
       "\n",
       "    [theme=dark] .colab-df-convert {\n",
       "      background-color: #3B4455;\n",
       "      fill: #D2E3FC;\n",
       "    }\n",
       "\n",
       "    [theme=dark] .colab-df-convert:hover {\n",
       "      background-color: #434B5C;\n",
       "      box-shadow: 0px 1px 3px 1px rgba(0, 0, 0, 0.15);\n",
       "      filter: drop-shadow(0px 1px 2px rgba(0, 0, 0, 0.3));\n",
       "      fill: #FFFFFF;\n",
       "    }\n",
       "  </style>\n",
       "\n",
       "    <script>\n",
       "      const buttonEl =\n",
       "        document.querySelector('#df-a3cbd135-b7b1-433b-ac5a-953cc84e55a2 button.colab-df-convert');\n",
       "      buttonEl.style.display =\n",
       "        google.colab.kernel.accessAllowed ? 'block' : 'none';\n",
       "\n",
       "      async function convertToInteractive(key) {\n",
       "        const element = document.querySelector('#df-a3cbd135-b7b1-433b-ac5a-953cc84e55a2');\n",
       "        const dataTable =\n",
       "          await google.colab.kernel.invokeFunction('convertToInteractive',\n",
       "                                                    [key], {});\n",
       "        if (!dataTable) return;\n",
       "\n",
       "        const docLinkHtml = 'Like what you see? Visit the ' +\n",
       "          '<a target=\"_blank\" href=https://colab.research.google.com/notebooks/data_table.ipynb>data table notebook</a>'\n",
       "          + ' to learn more about interactive tables.';\n",
       "        element.innerHTML = '';\n",
       "        dataTable['output_type'] = 'display_data';\n",
       "        await google.colab.output.renderOutput(dataTable, element);\n",
       "        const docLink = document.createElement('div');\n",
       "        docLink.innerHTML = docLinkHtml;\n",
       "        element.appendChild(docLink);\n",
       "      }\n",
       "    </script>\n",
       "  </div>\n",
       "\n",
       "\n",
       "<div id=\"df-a04ff968-84e0-42af-93df-204efa70b503\">\n",
       "  <button class=\"colab-df-quickchart\" onclick=\"quickchart('df-a04ff968-84e0-42af-93df-204efa70b503')\"\n",
       "            title=\"Suggest charts\"\n",
       "            style=\"display:none;\">\n",
       "\n",
       "<svg xmlns=\"http://www.w3.org/2000/svg\" height=\"24px\"viewBox=\"0 0 24 24\"\n",
       "     width=\"24px\">\n",
       "    <g>\n",
       "        <path d=\"M19 3H5c-1.1 0-2 .9-2 2v14c0 1.1.9 2 2 2h14c1.1 0 2-.9 2-2V5c0-1.1-.9-2-2-2zM9 17H7v-7h2v7zm4 0h-2V7h2v10zm4 0h-2v-4h2v4z\"/>\n",
       "    </g>\n",
       "</svg>\n",
       "  </button>\n",
       "\n",
       "<style>\n",
       "  .colab-df-quickchart {\n",
       "      --bg-color: #E8F0FE;\n",
       "      --fill-color: #1967D2;\n",
       "      --hover-bg-color: #E2EBFA;\n",
       "      --hover-fill-color: #174EA6;\n",
       "      --disabled-fill-color: #AAA;\n",
       "      --disabled-bg-color: #DDD;\n",
       "  }\n",
       "\n",
       "  [theme=dark] .colab-df-quickchart {\n",
       "      --bg-color: #3B4455;\n",
       "      --fill-color: #D2E3FC;\n",
       "      --hover-bg-color: #434B5C;\n",
       "      --hover-fill-color: #FFFFFF;\n",
       "      --disabled-bg-color: #3B4455;\n",
       "      --disabled-fill-color: #666;\n",
       "  }\n",
       "\n",
       "  .colab-df-quickchart {\n",
       "    background-color: var(--bg-color);\n",
       "    border: none;\n",
       "    border-radius: 50%;\n",
       "    cursor: pointer;\n",
       "    display: none;\n",
       "    fill: var(--fill-color);\n",
       "    height: 32px;\n",
       "    padding: 0;\n",
       "    width: 32px;\n",
       "  }\n",
       "\n",
       "  .colab-df-quickchart:hover {\n",
       "    background-color: var(--hover-bg-color);\n",
       "    box-shadow: 0 1px 2px rgba(60, 64, 67, 0.3), 0 1px 3px 1px rgba(60, 64, 67, 0.15);\n",
       "    fill: var(--button-hover-fill-color);\n",
       "  }\n",
       "\n",
       "  .colab-df-quickchart-complete:disabled,\n",
       "  .colab-df-quickchart-complete:disabled:hover {\n",
       "    background-color: var(--disabled-bg-color);\n",
       "    fill: var(--disabled-fill-color);\n",
       "    box-shadow: none;\n",
       "  }\n",
       "\n",
       "  .colab-df-spinner {\n",
       "    border: 2px solid var(--fill-color);\n",
       "    border-color: transparent;\n",
       "    border-bottom-color: var(--fill-color);\n",
       "    animation:\n",
       "      spin 1s steps(1) infinite;\n",
       "  }\n",
       "\n",
       "  @keyframes spin {\n",
       "    0% {\n",
       "      border-color: transparent;\n",
       "      border-bottom-color: var(--fill-color);\n",
       "      border-left-color: var(--fill-color);\n",
       "    }\n",
       "    20% {\n",
       "      border-color: transparent;\n",
       "      border-left-color: var(--fill-color);\n",
       "      border-top-color: var(--fill-color);\n",
       "    }\n",
       "    30% {\n",
       "      border-color: transparent;\n",
       "      border-left-color: var(--fill-color);\n",
       "      border-top-color: var(--fill-color);\n",
       "      border-right-color: var(--fill-color);\n",
       "    }\n",
       "    40% {\n",
       "      border-color: transparent;\n",
       "      border-right-color: var(--fill-color);\n",
       "      border-top-color: var(--fill-color);\n",
       "    }\n",
       "    60% {\n",
       "      border-color: transparent;\n",
       "      border-right-color: var(--fill-color);\n",
       "    }\n",
       "    80% {\n",
       "      border-color: transparent;\n",
       "      border-right-color: var(--fill-color);\n",
       "      border-bottom-color: var(--fill-color);\n",
       "    }\n",
       "    90% {\n",
       "      border-color: transparent;\n",
       "      border-bottom-color: var(--fill-color);\n",
       "    }\n",
       "  }\n",
       "</style>\n",
       "\n",
       "  <script>\n",
       "    async function quickchart(key) {\n",
       "      const quickchartButtonEl =\n",
       "        document.querySelector('#' + key + ' button');\n",
       "      quickchartButtonEl.disabled = true;  // To prevent multiple clicks.\n",
       "      quickchartButtonEl.classList.add('colab-df-spinner');\n",
       "      try {\n",
       "        const charts = await google.colab.kernel.invokeFunction(\n",
       "            'suggestCharts', [key], {});\n",
       "      } catch (error) {\n",
       "        console.error('Error during call to suggestCharts:', error);\n",
       "      }\n",
       "      quickchartButtonEl.classList.remove('colab-df-spinner');\n",
       "      quickchartButtonEl.classList.add('colab-df-quickchart-complete');\n",
       "    }\n",
       "    (() => {\n",
       "      let quickchartButtonEl =\n",
       "        document.querySelector('#df-a04ff968-84e0-42af-93df-204efa70b503 button');\n",
       "      quickchartButtonEl.style.display =\n",
       "        google.colab.kernel.accessAllowed ? 'block' : 'none';\n",
       "    })();\n",
       "  </script>\n",
       "</div>\n",
       "\n",
       "  <div id=\"id_4480cf24-b63a-4645-ae34-dae5c270ec6c\">\n",
       "    <style>\n",
       "      .colab-df-generate {\n",
       "        background-color: #E8F0FE;\n",
       "        border: none;\n",
       "        border-radius: 50%;\n",
       "        cursor: pointer;\n",
       "        display: none;\n",
       "        fill: #1967D2;\n",
       "        height: 32px;\n",
       "        padding: 0 0 0 0;\n",
       "        width: 32px;\n",
       "      }\n",
       "\n",
       "      .colab-df-generate:hover {\n",
       "        background-color: #E2EBFA;\n",
       "        box-shadow: 0px 1px 2px rgba(60, 64, 67, 0.3), 0px 1px 3px 1px rgba(60, 64, 67, 0.15);\n",
       "        fill: #174EA6;\n",
       "      }\n",
       "\n",
       "      [theme=dark] .colab-df-generate {\n",
       "        background-color: #3B4455;\n",
       "        fill: #D2E3FC;\n",
       "      }\n",
       "\n",
       "      [theme=dark] .colab-df-generate:hover {\n",
       "        background-color: #434B5C;\n",
       "        box-shadow: 0px 1px 3px 1px rgba(0, 0, 0, 0.15);\n",
       "        filter: drop-shadow(0px 1px 2px rgba(0, 0, 0, 0.3));\n",
       "        fill: #FFFFFF;\n",
       "      }\n",
       "    </style>\n",
       "    <button class=\"colab-df-generate\" onclick=\"generateWithVariable('final_brands')\"\n",
       "            title=\"Generate code using this dataframe.\"\n",
       "            style=\"display:none;\">\n",
       "\n",
       "  <svg xmlns=\"http://www.w3.org/2000/svg\" height=\"24px\"viewBox=\"0 0 24 24\"\n",
       "       width=\"24px\">\n",
       "    <path d=\"M7,19H8.4L18.45,9,17,7.55,7,17.6ZM5,21V16.75L18.45,3.32a2,2,0,0,1,2.83,0l1.4,1.43a1.91,1.91,0,0,1,.58,1.4,1.91,1.91,0,0,1-.58,1.4L9.25,21ZM18.45,9,17,7.55Zm-12,3A5.31,5.31,0,0,0,4.9,8.1,5.31,5.31,0,0,0,1,6.5,5.31,5.31,0,0,0,4.9,4.9,5.31,5.31,0,0,0,6.5,1,5.31,5.31,0,0,0,8.1,4.9,5.31,5.31,0,0,0,12,6.5,5.46,5.46,0,0,0,6.5,12Z\"/>\n",
       "  </svg>\n",
       "    </button>\n",
       "    <script>\n",
       "      (() => {\n",
       "      const buttonEl =\n",
       "        document.querySelector('#id_4480cf24-b63a-4645-ae34-dae5c270ec6c button.colab-df-generate');\n",
       "      buttonEl.style.display =\n",
       "        google.colab.kernel.accessAllowed ? 'block' : 'none';\n",
       "\n",
       "      buttonEl.onclick = () => {\n",
       "        google.colab.notebook.generateWithVariable('final_brands');\n",
       "      }\n",
       "      })();\n",
       "    </script>\n",
       "  </div>\n",
       "\n",
       "    </div>\n",
       "  </div>\n"
      ],
      "text/plain": [
       "            brand  number of models                                 url\n",
       "0          Toyota             50503    https://auto.ru/cars/toyota/all/\n",
       "1             Kia             34503       https://auto.ru/cars/kia/all/\n",
       "2             BMW             31618       https://auto.ru/cars/bmw/all/\n",
       "3         Hyundai             31348   https://auto.ru/cars/hyundai/all/\n",
       "4   Mercedes-Benz             29566  https://auto.ru/cars/mercedes/all/\n",
       "..            ...               ...                                 ...\n",
       "47         Jaguar              1202    https://auto.ru/cars/jaguar/all/\n",
       "48         Datsun              1195    https://auto.ru/cars/datsun/all/\n",
       "49          Dodge              1118     https://auto.ru/cars/dodge/all/\n",
       "50          Tesla              1045     https://auto.ru/cars/tesla/all/\n",
       "51            FAW              1033       https://auto.ru/cars/faw/all/\n",
       "\n",
       "[52 rows x 3 columns]"
      ]
     },
     "execution_count": 12,
     "metadata": {},
     "output_type": "execute_result"
    }
   ],
   "source": [
    "final_brands"
   ]
  },
  {
   "cell_type": "markdown",
   "metadata": {
    "id": "_qe7FLQSeS4S"
   },
   "source": [
    "## Parse models"
   ]
  },
  {
   "cell_type": "code",
   "execution_count": null,
   "metadata": {
    "id": "NtaehrXTeVQC"
   },
   "outputs": [],
   "source": [
    "#Getting all models of each brand to parse with filter on model\n",
    "def parse_models(item, list_urls, list_names, list_count):\n",
    "  if item.find(\"a\", \"Link ListingPopularMMM__itemName\") is None or \\\n",
    "    item.find(\"div\", \"ListingPopularMMM__itemCount\") is None:\n",
    "    return None\n",
    "  list_names.append(item.find(\"a\", \"Link ListingPopularMMM__itemName\").text)\n",
    "  list_urls.append(item.find(\"a\", \"Link ListingPopularMMM__itemName\")[\"href\"])\n",
    "  list_count.append(item.find(\"div\", \"ListingPopularMMM__itemCount\").text)"
   ]
  },
  {
   "cell_type": "code",
   "execution_count": null,
   "metadata": {
    "id": "ZzHIGsjpeWWy"
   },
   "outputs": [],
   "source": [
    "# brand_models_dict = {}\n",
    "# for brand in final_brands.iterrows():\n",
    "#   brand_name = brand[1][\"brand\"]\n",
    "#   brand_url = brand[1][\"url\"]\n",
    "#   soup = BeautifulSoup(requests.get(brand_url).content, \"html.parser\")\n",
    "#   raw_list = soup.find_all(\"div\", \"ListingPopularMMM__item\")\n",
    "#   l1, l2, l3 = [], [], []\n",
    "#   for item in raw_list:\n",
    "#     parse_models(item, l1, l2, l3)\n",
    "\n",
    "#   brand_models_dict[brand_name] = pd.DataFrame({\"url\": l1, \"model\": l2, \"count\": l3})"
   ]
  },
  {
   "cell_type": "code",
   "execution_count": null,
   "metadata": {
    "id": "WugbuvOyegMt"
   },
   "outputs": [],
   "source": [
    "# df_list = []\n",
    "# for brand, df in brand_models_dict.items():\n",
    "#     df[\"brand\"] = brand  # Добавляем колонку с именем бренда\n",
    "#     df_list.append(df)\n",
    "\n",
    "# final_df = pd.concat(df_list, ignore_index=True)"
   ]
  },
  {
   "cell_type": "code",
   "execution_count": null,
   "metadata": {
    "id": "8azJNbktBF-l"
   },
   "outputs": [],
   "source": [
    "#Code is in comments becouse it was saved in the file below\n",
    "final_df = pd.read_csv(os.path.join(DATA_PATH, \"brands_models_urls.csv\")).drop(\"Unnamed: 0\", axis=1)"
   ]
  },
  {
   "cell_type": "code",
   "execution_count": null,
   "metadata": {
    "colab": {
     "base_uri": "https://localhost:8080/",
     "height": 423
    },
    "id": "0QG_yGI1egMt",
    "outputId": "ae9c8bc6-330a-4514-c47a-2c028fdb8fa2"
   },
   "outputs": [
    {
     "data": {
      "text/html": [
       "<div>\n",
       "<style scoped>\n",
       "    .dataframe tbody tr th:only-of-type {\n",
       "        vertical-align: middle;\n",
       "    }\n",
       "\n",
       "    .dataframe tbody tr th {\n",
       "        vertical-align: top;\n",
       "    }\n",
       "\n",
       "    .dataframe thead th {\n",
       "        text-align: right;\n",
       "    }\n",
       "</style>\n",
       "<table border=\"1\" class=\"dataframe\">\n",
       "  <thead>\n",
       "    <tr style=\"text-align: right;\">\n",
       "      <th></th>\n",
       "      <th>url</th>\n",
       "      <th>model</th>\n",
       "      <th>count</th>\n",
       "      <th>brand</th>\n",
       "    </tr>\n",
       "  </thead>\n",
       "  <tbody>\n",
       "    <tr>\n",
       "      <th>0</th>\n",
       "      <td>https://auto.ru/cars/toyota/avensis/used/</td>\n",
       "      <td>Avensis</td>\n",
       "      <td>1097</td>\n",
       "      <td>Toyota</td>\n",
       "    </tr>\n",
       "    <tr>\n",
       "      <th>1</th>\n",
       "      <td>https://auto.ru/cars/toyota/camry/all/</td>\n",
       "      <td>Camry</td>\n",
       "      <td>7915</td>\n",
       "      <td>Toyota</td>\n",
       "    </tr>\n",
       "    <tr>\n",
       "      <th>2</th>\n",
       "      <td>https://auto.ru/cars/toyota/corolla/all/</td>\n",
       "      <td>Corolla</td>\n",
       "      <td>5786</td>\n",
       "      <td>Toyota</td>\n",
       "    </tr>\n",
       "    <tr>\n",
       "      <th>3</th>\n",
       "      <td>https://auto.ru/cars/toyota/highlander/all/</td>\n",
       "      <td>Highlander</td>\n",
       "      <td>1425</td>\n",
       "      <td>Toyota</td>\n",
       "    </tr>\n",
       "    <tr>\n",
       "      <th>4</th>\n",
       "      <td>https://auto.ru/cars/toyota/land_cruiser/all/</td>\n",
       "      <td>Land Cruiser</td>\n",
       "      <td>3718</td>\n",
       "      <td>Toyota</td>\n",
       "    </tr>\n",
       "    <tr>\n",
       "      <th>...</th>\n",
       "      <td>...</td>\n",
       "      <td>...</td>\n",
       "      <td>...</td>\n",
       "      <td>...</td>\n",
       "    </tr>\n",
       "    <tr>\n",
       "      <th>1828</th>\n",
       "      <td>https://auto.ru/cars/faw/besturn_b30/used/</td>\n",
       "      <td>Besturn B30</td>\n",
       "      <td>2</td>\n",
       "      <td>FAW</td>\n",
       "    </tr>\n",
       "    <tr>\n",
       "      <th>1829</th>\n",
       "      <td>https://auto.ru/cars/faw/d60/used/</td>\n",
       "      <td>D60</td>\n",
       "      <td>1</td>\n",
       "      <td>FAW</td>\n",
       "    </tr>\n",
       "    <tr>\n",
       "      <th>1830</th>\n",
       "      <td>https://auto.ru/cars/faw/jinn/used/</td>\n",
       "      <td>Jinn</td>\n",
       "      <td>5</td>\n",
       "      <td>FAW</td>\n",
       "    </tr>\n",
       "    <tr>\n",
       "      <th>1831</th>\n",
       "      <td>https://auto.ru/cars/faw/oley/used/</td>\n",
       "      <td>Oley</td>\n",
       "      <td>12</td>\n",
       "      <td>FAW</td>\n",
       "    </tr>\n",
       "    <tr>\n",
       "      <th>1832</th>\n",
       "      <td>https://auto.ru/cars/faw/v2/used/</td>\n",
       "      <td>V2</td>\n",
       "      <td>2</td>\n",
       "      <td>FAW</td>\n",
       "    </tr>\n",
       "  </tbody>\n",
       "</table>\n",
       "<p>1833 rows × 4 columns</p>\n",
       "</div>"
      ],
      "text/plain": [
       "                                                url         model  count  \\\n",
       "0         https://auto.ru/cars/toyota/avensis/used/       Avensis   1097   \n",
       "1            https://auto.ru/cars/toyota/camry/all/         Camry   7915   \n",
       "2          https://auto.ru/cars/toyota/corolla/all/       Corolla   5786   \n",
       "3       https://auto.ru/cars/toyota/highlander/all/    Highlander   1425   \n",
       "4     https://auto.ru/cars/toyota/land_cruiser/all/  Land Cruiser   3718   \n",
       "...                                             ...           ...    ...   \n",
       "1828     https://auto.ru/cars/faw/besturn_b30/used/   Besturn B30      2   \n",
       "1829             https://auto.ru/cars/faw/d60/used/           D60      1   \n",
       "1830            https://auto.ru/cars/faw/jinn/used/          Jinn      5   \n",
       "1831            https://auto.ru/cars/faw/oley/used/          Oley     12   \n",
       "1832              https://auto.ru/cars/faw/v2/used/            V2      2   \n",
       "\n",
       "       brand  \n",
       "0     Toyota  \n",
       "1     Toyota  \n",
       "2     Toyota  \n",
       "3     Toyota  \n",
       "4     Toyota  \n",
       "...      ...  \n",
       "1828     FAW  \n",
       "1829     FAW  \n",
       "1830     FAW  \n",
       "1831     FAW  \n",
       "1832     FAW  \n",
       "\n",
       "[1833 rows x 4 columns]"
      ]
     },
     "execution_count": 20,
     "metadata": {},
     "output_type": "execute_result"
    }
   ],
   "source": [
    "final_df"
   ]
  },
  {
   "cell_type": "code",
   "execution_count": null,
   "metadata": {
    "id": "iFHJw4gNe4vV"
   },
   "outputs": [],
   "source": [
    "#final_df.to_csv(\"/content/drive/MyDrive/infa/elsefiles/brands_models_urls.csv\")\n",
    "#final_df.to_csv(os.path.join(DATA_PATH, \"brands_models_urls.csv\"))"
   ]
  },
  {
   "cell_type": "markdown",
   "metadata": {
    "id": "2qFA9fsJtSJV"
   },
   "source": [
    "# Functions"
   ]
  },
  {
   "cell_type": "code",
   "execution_count": null,
   "metadata": {
    "id": "dI_xxENut_7o"
   },
   "outputs": [],
   "source": [
    "#from item - soup of single ad on the page - getting info about km of used auto\n",
    "def get_km(item):\n",
    "  try:\n",
    "    t = item.find(\"div\", \"ListingItem__description\").find(\"div\", \"ListingItem__kmAgeAndActionsBlock\").find(\"div\", \"ListingItem__kmAgeAndSalonInfo\").find(\"div\", \"ListingItem__kmAge\").text.replace('\\xa0', '')[:-2]\n",
    "    return 0 if t == \"Нов\" else int(t)\n",
    "  except:\n",
    "    print(\"problem get_km\")\n",
    "    return None\n",
    "\n",
    "#from item - soup of single ad on the page - parsing posible tags, that could be placed right in the ad below the price\n",
    "def get_salon_tag(item):\n",
    "  try:\n",
    "    return {\n",
    "        \"salon\": 0 if item.find(\"div\", \"ListingItem__description\").find(\"div\", \"ListingItem__kmAgeAndActionsBlock\").find(\"div\", \"ListingItem__kmAgeAndSalonInfo\").find(\"div\", \"ListingItemInStock-awRrm ListingItemInStock_stock-mWD02 ListingItem__stock\") is None else 1,\n",
    "        \"seller\": 0 if item.find(\"div\", \"ListingItem__description\").find(\"div\", \"ListingItem__kmAgeAndActionsBlock\").find(\"div\", \"ListingItem__kmAgeAndSalonInfo\").find(\"div\", \"ListingItem__resellerTitle\") is None else 1,\n",
    "        \"on order\": 0 if item.find(\"div\", \"ListingItem__description\").find(\"div\", \"ListingItem__kmAgeAndActionsBlock\").find(\"div\", \"ListingItem__kmAgeAndSalonInfo\").find(\"div\", \"ListingItemInStock-awRrm ListingItemInStock_request-YqrMT ListingItem__stock\") is None else 1,\n",
    "        \"verified dealler\": 0 if item.find(\"div\", \"ListingItem__description\").find(\"div\", \"ListingItem__kmAgeAndActionsBlock\").find(\"div\", \"ListingItem__kmAgeAndSalonInfo\").find(\"div\", \"ListingItem__salonVerifiedLabel SalonVerifiedLabelWithPopup__popup InfoPopup InfoPopup_theme_plain InfoPopup_withChildren\") is None else 1\n",
    "    }\n",
    "  except:\n",
    "    print(\"problem get_salon_tag\")\n",
    "    return None\n",
    "\n",
    "#from item - soup of single ad on the page - getting separate page of ad to posible further analysis\n",
    "def get_url_item(item):\n",
    "  try:\n",
    "    return item.find(\"a\", \"Link ListingItemTitle__link\")[\"href\"]\n",
    "  except:\n",
    "    print(\"problem get_url_item\")\n",
    "    return None\n",
    "\n",
    "#from item - soup of single ad on the page - getting name of ad\n",
    "def get_item_name(item):\n",
    "  try:\n",
    "    return item.find(\"a\", \"Link ListingItemTitle__link\").text\n",
    "  except:\n",
    "    print(\"problem get_item_name\")\n",
    "    return None\n",
    "\n",
    "#from item - soup of single ad on the page - parsing info\n",
    "def get_tags(item):\n",
    "  try:\n",
    "    tmp = list(map(lambda x: x.text.replace('\\u2009', '').replace('\\xa0', ''), item.find_all(\"div\", \"ListingItemTechSummaryDesktop__cell\")))\n",
    "    if \"Электро\" in tmp[0]:\n",
    "      tags_dict = {\"engine_v\": float(tmp[0].split(\"/\")[1].replace(\"кВт\", \"\"))*1.35962,\n",
    "                \"engine_power\": float(tmp[0].split(\"/\")[0].replace(\"л.с.\", \"\")),\n",
    "                \"fuel_type\": tmp[0].split(\"/\")[2],\n",
    "                \"transmission_type\": tmp[1],\n",
    "                \"salon_type\": tmp[2],\n",
    "                \"wheel_drive\": tmp[3],\n",
    "                \"color\": tmp[4]}\n",
    "    else:\n",
    "      tags_dict = {\"engine_v\": float(tmp[0].split(\"/\")[0].replace(\"л\", \"\")),\n",
    "                  \"engine_power\": float(tmp[0].split(\"/\")[1].replace(\"л.с.\", \"\")),\n",
    "                  \"fuel_type\": tmp[0].split(\"/\")[2],\n",
    "                  \"transmission_type\": tmp[1],\n",
    "                  \"salon_type\": tmp[2],\n",
    "                  \"wheel_drive\": tmp[3],\n",
    "                  \"color\": tmp[4]}\n",
    "    return tags_dict\n",
    "  except:\n",
    "    print(\"problem get_tags\")\n",
    "    return {\"engine_v\": None,\n",
    "                \"engine_power\": None,\n",
    "                \"fuel_type\": None,\n",
    "                \"transmission_type\": None,\n",
    "                \"salon_type\": None,\n",
    "                \"wheel_drive\": None,\n",
    "                \"color\": None}\n",
    "\n",
    "def get_price(item):\n",
    "  try:\n",
    "    tmp = item.find(\"div\", \"ListingItemPrice__content\")\n",
    "    if tmp is None:\n",
    "      return None\n",
    "    else:\n",
    "      t = item.find(\"div\", \"ListingItemPrice__content\").text.replace('\\u2009', '').replace('\\xa0', '')[:-1]\n",
    "      if \"от\" in t or \"до\" in t:\n",
    "        t = t[3:]\n",
    "      return int(t)\n",
    "  except:\n",
    "    print(\"problem get_price\")\n",
    "    return None\n",
    "\n",
    "def get_year(item):\n",
    "  try:\n",
    "    return int(item.find(\"div\", \"ListingItem__year\").text)\n",
    "  except:\n",
    "    print(\"problem get_year\")\n",
    "    return None\n",
    "\n",
    "def get_region(item):\n",
    "  try:\n",
    "    return item.find(\"span\", \"MetroListPlace__regionName MetroListPlace_nbsp\").text\n",
    "  except:\n",
    "    print(\"problem get_region\")\n",
    "    return None"
   ]
  },
  {
   "cell_type": "code",
   "execution_count": null,
   "metadata": {
    "id": "Th8Nk7ZOlTEN"
   },
   "outputs": [],
   "source": [
    "def get_count_pages(url_model_soup):\n",
    "  if url_model_soup.find(\"span\", \"ControlGroup ControlGroup_responsive_no ControlGroup_size_s ListingPagination__pages\") is None:\n",
    "    return 1\n",
    "  return max(list(map(lambda x: 10 if x.text in [\"…\", \"...\"] else int(x.text), url_model_soup.find(\"span\", \"ControlGroup ControlGroup_responsive_no ControlGroup_size_s ListingPagination__pages\").find_all(\"a\"))))"
   ]
  },
  {
   "cell_type": "code",
   "execution_count": null,
   "metadata": {
    "id": "9QoJ_0mhWlqG"
   },
   "outputs": [],
   "source": [
    "#from item - soup of single ad on the page - parsing posible tags in the bottom of ad\n",
    "def get_all_info(item):\n",
    "    # print(get_url_item(item))\n",
    "    # print()\n",
    "    # print(item)\n",
    "    # print()\n",
    "  result = get_tags(item)\n",
    "  result[\"km\"] = get_km(item)\n",
    "  result[\"url\"] = get_url_item(item)\n",
    "  result[\"price\"] = get_price(item)\n",
    "  result[\"year\"] = get_year(item)\n",
    "  result[\"region\"] = get_region(item)\n",
    "  result[\"name\"] = get_item_name(item)\n",
    "  result[\"additional_tags\"] = get_additional_tags(item)\n",
    "  if any(result.values()) is None:\n",
    "    print(result[\"url\"])\n",
    "\n",
    "  result.update(get_salon_tag(item))\n",
    "  return result"
   ]
  },
  {
   "cell_type": "code",
   "execution_count": null,
   "metadata": {
    "id": "0kPaU0syaFlI"
   },
   "outputs": [],
   "source": [
    "def get_additional_tags(item):\n",
    "  return list(map(lambda x: x.text, item.find_all(\"div\", \"Badge\")))"
   ]
  },
  {
   "cell_type": "code",
   "execution_count": null,
   "metadata": {
    "id": "kLP43GliB9Qz"
   },
   "outputs": [],
   "source": [
    "def parse_pages(url, brand=\"test\", model=\"test\"):\n",
    "  soup = BeautifulSoup(requests.get(url).content, \"html.parser\")\n",
    "  pages = get_count_pages(soup)\n",
    "  result = []\n",
    "  for page_num in range(1, pages+1):\n",
    "    current_url = f\"{url}?page={page_num}\"\n",
    "    soup = BeautifulSoup(requests.get(current_url).content, \"html.parser\")\n",
    "    result += parse_page(soup, brand, model, page_num)\n",
    "    print(f\"{brand} - {model} - {page_num} -- {len(result)}/{pages*37}\")\n",
    "  return result"
   ]
  },
  {
   "cell_type": "code",
   "execution_count": null,
   "metadata": {
    "id": "tvJ9DzXDRiwd"
   },
   "outputs": [],
   "source": [
    "def parse_page(soup, brand=\"test\", model=\"test\", page=\"test\"):\n",
    "  tmp = soup.find_all(\"div\", \"ListingItem\")\n",
    "  result_list = list(map(get_all_info, tmp))\n",
    "  result_list = [{**x, \"model\": model, \"brand\": brand, \"page\": page} for x in result_list]\n",
    "  return result_list"
   ]
  },
  {
   "cell_type": "markdown",
   "metadata": {
    "id": "8Iirxc6sU_nP"
   },
   "source": [
    "To parse from each page"
   ]
  },
  {
   "cell_type": "code",
   "execution_count": null,
   "metadata": {
    "id": "sHK14JGyU-w_"
   },
   "outputs": [],
   "source": [
    "# s = BeautifulSoup(requests.get(\"https://auto.ru/cars/used/sale/datsun/mi_do/1127203955-09dce813/\").content)\n",
    "# list(map(lambda x: x.text, s.find(\"li\", \"CardInfoRow CardInfoRow_wheel\").find_all(\"div\", \"CardInfoRow__cell\")))[1]\n",
    "# list(map(lambda x: x.text, s.find(\"li\", \"CardInfoRow CardInfoRow_state\").find_all(\"div\", \"CardInfoRow__cell\")))[1]\n",
    "# list(map(lambda x: x.text, s.find(\"li\", \"CardInfoRow CardInfoRow_ownersCount\").find_all(\"div\", \"CardInfoRow__cell\")))[1].split()[0]\n",
    "# list(map(lambda x: x.text, s.find(\"li\", \"CardInfoRow CardInfoRow_pts\").find_all(\"div\", \"CardInfoRow__cell\")))[1]\n",
    "# list(map(lambda x: x.text, s.find(\"li\", \"CardInfoRow CardInfoRow_customs\").find_all(\"div\", \"CardInfoRow__cell\")))[1]"
   ]
  },
  {
   "cell_type": "code",
   "execution_count": null,
   "metadata": {
    "id": "KWc3oi6eVLsA"
   },
   "outputs": [],
   "source": [
    "# date = s.find(\"div\", \"CardHead__infoItem CardHead__creationDate\").text\n",
    "# if len(date.split()) == 2:\n",
    "#   date += \" 2025\""
   ]
  },
  {
   "cell_type": "markdown",
   "metadata": {
    "id": "zJYqZ6wKtjyu"
   },
   "source": [
    "# Test"
   ]
  },
  {
   "cell_type": "code",
   "execution_count": null,
   "metadata": {
    "colab": {
     "base_uri": "https://localhost:8080/",
     "height": 423
    },
    "id": "1TSOE8OaEEv1",
    "outputId": "c65b7eb3-4acd-4569-d3d5-a851905decd4"
   },
   "outputs": [
    {
     "data": {
      "text/html": [
       "<div>\n",
       "<style scoped>\n",
       "    .dataframe tbody tr th:only-of-type {\n",
       "        vertical-align: middle;\n",
       "    }\n",
       "\n",
       "    .dataframe tbody tr th {\n",
       "        vertical-align: top;\n",
       "    }\n",
       "\n",
       "    .dataframe thead th {\n",
       "        text-align: right;\n",
       "    }\n",
       "</style>\n",
       "<table border=\"1\" class=\"dataframe\">\n",
       "  <thead>\n",
       "    <tr style=\"text-align: right;\">\n",
       "      <th></th>\n",
       "      <th>url</th>\n",
       "      <th>model</th>\n",
       "      <th>count</th>\n",
       "      <th>brand</th>\n",
       "    </tr>\n",
       "  </thead>\n",
       "  <tbody>\n",
       "    <tr>\n",
       "      <th>0</th>\n",
       "      <td>https://auto.ru/cars/toyota/avensis/used/</td>\n",
       "      <td>Avensis</td>\n",
       "      <td>1097</td>\n",
       "      <td>Toyota</td>\n",
       "    </tr>\n",
       "    <tr>\n",
       "      <th>1</th>\n",
       "      <td>https://auto.ru/cars/toyota/camry/all/</td>\n",
       "      <td>Camry</td>\n",
       "      <td>7915</td>\n",
       "      <td>Toyota</td>\n",
       "    </tr>\n",
       "    <tr>\n",
       "      <th>2</th>\n",
       "      <td>https://auto.ru/cars/toyota/corolla/all/</td>\n",
       "      <td>Corolla</td>\n",
       "      <td>5786</td>\n",
       "      <td>Toyota</td>\n",
       "    </tr>\n",
       "    <tr>\n",
       "      <th>3</th>\n",
       "      <td>https://auto.ru/cars/toyota/highlander/all/</td>\n",
       "      <td>Highlander</td>\n",
       "      <td>1425</td>\n",
       "      <td>Toyota</td>\n",
       "    </tr>\n",
       "    <tr>\n",
       "      <th>4</th>\n",
       "      <td>https://auto.ru/cars/toyota/land_cruiser/all/</td>\n",
       "      <td>Land Cruiser</td>\n",
       "      <td>3718</td>\n",
       "      <td>Toyota</td>\n",
       "    </tr>\n",
       "    <tr>\n",
       "      <th>...</th>\n",
       "      <td>...</td>\n",
       "      <td>...</td>\n",
       "      <td>...</td>\n",
       "      <td>...</td>\n",
       "    </tr>\n",
       "    <tr>\n",
       "      <th>25</th>\n",
       "      <td>https://auto.ru/cars/toyota/blade/used/</td>\n",
       "      <td>Blade</td>\n",
       "      <td>4</td>\n",
       "      <td>Toyota</td>\n",
       "    </tr>\n",
       "    <tr>\n",
       "      <th>26</th>\n",
       "      <td>https://auto.ru/cars/toyota/brevis/used/</td>\n",
       "      <td>Brevis</td>\n",
       "      <td>21</td>\n",
       "      <td>Toyota</td>\n",
       "    </tr>\n",
       "    <tr>\n",
       "      <th>27</th>\n",
       "      <td>https://auto.ru/cars/toyota/bz3/all/</td>\n",
       "      <td>bZ3</td>\n",
       "      <td>15</td>\n",
       "      <td>Toyota</td>\n",
       "    </tr>\n",
       "    <tr>\n",
       "      <th>28</th>\n",
       "      <td>https://auto.ru/cars/toyota/bz4x/used/</td>\n",
       "      <td>bZ4X</td>\n",
       "      <td>24</td>\n",
       "      <td>Toyota</td>\n",
       "    </tr>\n",
       "    <tr>\n",
       "      <th>29</th>\n",
       "      <td>https://auto.ru/cars/toyota/c_hr/all/</td>\n",
       "      <td>C-HR</td>\n",
       "      <td>660</td>\n",
       "      <td>Toyota</td>\n",
       "    </tr>\n",
       "  </tbody>\n",
       "</table>\n",
       "<p>30 rows × 4 columns</p>\n",
       "</div>"
      ],
      "text/plain": [
       "                                              url         model  count   brand\n",
       "0       https://auto.ru/cars/toyota/avensis/used/       Avensis   1097  Toyota\n",
       "1          https://auto.ru/cars/toyota/camry/all/         Camry   7915  Toyota\n",
       "2        https://auto.ru/cars/toyota/corolla/all/       Corolla   5786  Toyota\n",
       "3     https://auto.ru/cars/toyota/highlander/all/    Highlander   1425  Toyota\n",
       "4   https://auto.ru/cars/toyota/land_cruiser/all/  Land Cruiser   3718  Toyota\n",
       "..                                            ...           ...    ...     ...\n",
       "25        https://auto.ru/cars/toyota/blade/used/         Blade      4  Toyota\n",
       "26       https://auto.ru/cars/toyota/brevis/used/        Brevis     21  Toyota\n",
       "27           https://auto.ru/cars/toyota/bz3/all/           bZ3     15  Toyota\n",
       "28         https://auto.ru/cars/toyota/bz4x/used/          bZ4X     24  Toyota\n",
       "29          https://auto.ru/cars/toyota/c_hr/all/          C-HR    660  Toyota\n",
       "\n",
       "[30 rows x 4 columns]"
      ]
     },
     "execution_count": 30,
     "metadata": {},
     "output_type": "execute_result"
    }
   ],
   "source": [
    "final_df[final_df[\"brand\"] == \"Toyota\"].head(30)"
   ]
  },
  {
   "cell_type": "code",
   "execution_count": null,
   "metadata": {
    "colab": {
     "base_uri": "https://localhost:8080/"
    },
    "collapsed": true,
    "id": "r531gTM6EFbm",
    "jupyter": {
     "outputs_hidden": true
    },
    "outputId": "fae001ed-5f52-4135-b669-ff84c2d19388"
   },
   "outputs": [
    {
     "name": "stdout",
     "output_type": "stream",
     "text": [
      "test - test - 1 -- 17/37\n"
     ]
    },
    {
     "data": {
      "text/plain": [
       "[{'engine_v': 183.5487,\n",
       "  'engine_power': 184.0,\n",
       "  'fuel_type': 'Электро',\n",
       "  'transmission_type': 'Заряд на517км',\n",
       "  'salon_type': 'седан',\n",
       "  'wheel_drive': 'передний',\n",
       "  'color': 'чёрный',\n",
       "  'km': 100,\n",
       "  'url': 'https://auto.ru/cars/used/sale/toyota/bz3/1127398787-1e2ba992/',\n",
       "  'price': 2400070,\n",
       "  'year': 2024,\n",
       "  'region': 'Владивосток',\n",
       "  'name': 'Toyota bZ3',\n",
       "  'additional_tags': [],\n",
       "  'salon': 0,\n",
       "  'seller': 0,\n",
       "  'on order': 1,\n",
       "  'verified dealler': 0,\n",
       "  'model': 'test',\n",
       "  'brand': 'test',\n",
       "  'page': 1},\n",
       " {'engine_v': 183.5487,\n",
       "  'engine_power': 184.0,\n",
       "  'fuel_type': 'Электро',\n",
       "  'transmission_type': 'Заряд на517км',\n",
       "  'salon_type': 'седан',\n",
       "  'wheel_drive': 'передний',\n",
       "  'color': 'Elite',\n",
       "  'km': 0,\n",
       "  'url': 'https://auto.ru/cars/new/group/toyota/bz3/23626174/23705148/1125584982-06f691a8/',\n",
       "  'price': 3400000,\n",
       "  'year': 2024,\n",
       "  'region': 'Яблоновский',\n",
       "  'name': 'Toyota bZ3',\n",
       "  'additional_tags': [],\n",
       "  'salon': 1,\n",
       "  'seller': 0,\n",
       "  'on order': 0,\n",
       "  'verified dealler': 0,\n",
       "  'model': 'test',\n",
       "  'brand': 'test',\n",
       "  'page': 1},\n",
       " {'engine_v': 183.5487,\n",
       "  'engine_power': 184.0,\n",
       "  'fuel_type': 'Электро',\n",
       "  'transmission_type': 'Заряд на517км',\n",
       "  'salon_type': 'седан',\n",
       "  'wheel_drive': 'передний',\n",
       "  'color': 'Elite',\n",
       "  'km': 0,\n",
       "  'url': 'https://auto.ru/cars/new/group/toyota/bz3/23626174/23705148/1126870496-745054b9/',\n",
       "  'price': 3400000,\n",
       "  'year': 2024,\n",
       "  'region': 'Яблоновский',\n",
       "  'name': 'Toyota bZ3',\n",
       "  'additional_tags': [],\n",
       "  'salon': 1,\n",
       "  'seller': 0,\n",
       "  'on order': 0,\n",
       "  'verified dealler': 0,\n",
       "  'model': 'test',\n",
       "  'brand': 'test',\n",
       "  'page': 1},\n",
       " {'engine_v': 183.5487,\n",
       "  'engine_power': 184.0,\n",
       "  'fuel_type': 'Электро',\n",
       "  'transmission_type': 'Заряд на517км',\n",
       "  'salon_type': 'седан',\n",
       "  'wheel_drive': 'передний',\n",
       "  'color': 'Elite',\n",
       "  'km': 0,\n",
       "  'url': 'https://auto.ru/cars/new/group/toyota/bz3/23626174/23705148/1126870514-003319e3/',\n",
       "  'price': 3400000,\n",
       "  'year': 2024,\n",
       "  'region': 'Яблоновский',\n",
       "  'name': 'Toyota bZ3',\n",
       "  'additional_tags': [],\n",
       "  'salon': 1,\n",
       "  'seller': 0,\n",
       "  'on order': 0,\n",
       "  'verified dealler': 0,\n",
       "  'model': 'test',\n",
       "  'brand': 'test',\n",
       "  'page': 1},\n",
       " {'engine_v': 183.5487,\n",
       "  'engine_power': 184.0,\n",
       "  'fuel_type': 'Электро',\n",
       "  'transmission_type': 'Заряд на517км',\n",
       "  'salon_type': 'седан',\n",
       "  'wheel_drive': 'передний',\n",
       "  'color': 'белый',\n",
       "  'km': 36000,\n",
       "  'url': 'https://auto.ru/cars/used/sale/toyota/bz3/1126287832-36c8bddc/',\n",
       "  'price': None,\n",
       "  'year': 2023,\n",
       "  'region': 'Владивосток',\n",
       "  'name': 'Toyota bZ3',\n",
       "  'additional_tags': ['Растаможен, нет ПТС', 'Без пробега по\\xa0РФ'],\n",
       "  'salon': 0,\n",
       "  'seller': 0,\n",
       "  'on order': 1,\n",
       "  'verified dealler': 0,\n",
       "  'model': 'test',\n",
       "  'brand': 'test',\n",
       "  'page': 1}]"
      ]
     },
     "execution_count": 31,
     "metadata": {},
     "output_type": "execute_result"
    }
   ],
   "source": [
    "test_url = \"https://auto.ru/cars/toyota/bz3/all/\"\n",
    "parse_pages(test_url)[:5]"
   ]
  },
  {
   "cell_type": "markdown",
   "metadata": {
    "id": "AX-J9O9kVnya"
   },
   "source": [
    "# Parse"
   ]
  },
  {
   "cell_type": "code",
   "execution_count": null,
   "metadata": {
    "id": "srJniYKN068n"
   },
   "outputs": [],
   "source": [
    "#save_path = \"C:/Users/danil/Desktop/infa analog/datas/autos/\"\n",
    "#saved_list = \"C:/Users/danil/Desktop/infa analog/datas/autos/saved_models.txt\"\n",
    "save_path = os.path.join(DATA_PATH, \"autos\")\n",
    "saved_list = os.path.join(save_path, \"saved_models.txt\")"
   ]
  },
  {
   "cell_type": "code",
   "execution_count": null,
   "metadata": {
    "id": "GWh8N8qKaBT1"
   },
   "outputs": [],
   "source": [
    "result = []\n",
    "with open(saved_list, \"r\") as file:\n",
    "  saved_models = [model.strip() for model in file]\n",
    "for model in final_df.iterrows():\n",
    "  if model[1][\"model\"]  in saved_models:\n",
    "    model_name = model[1]['model'].replace(\"/\", \"\")\n",
    "    #print(model[1][\"model\"])\n",
    "    try:\n",
    "      with open(f\"{save_path}{model[1]['brand']}{model_name}\", \"r\") as outfile:\n",
    "        tmp = json.load(outfile)\n",
    "    except:\n",
    "      print(f\"{model[1]['brand']} {model_name} ERROR\")\n",
    "  else:\n",
    "    tmp = parse_pages(model[1][\"url\"], model[1][\"brand\"], model[1][\"model\"])\n",
    "    model_name = model[1]['model'].replace(\"/\", \"\")\n",
    "    with open(f\"{save_path}{model[1]['brand']}{model_name}\", \"w\") as outfile:\n",
    "      json.dump(tmp, outfile)\n",
    "    with open(saved_list, \"a\") as f:\n",
    "      f.write(f\"{model[1]['model']}\\n\")\n",
    "  result += tmp"
   ]
  },
  {
   "cell_type": "markdown",
   "metadata": {
    "id": "bTpj1YN1aBxF"
   },
   "source": [
    "# Get saved data"
   ]
  },
  {
   "cell_type": "code",
   "execution_count": null,
   "metadata": {
    "id": "O61NlXgySUyf",
    "outputId": "a9bf5ca3-1060-4500-8b53-7539bfea2e15"
   },
   "outputs": [
    {
     "name": "stdout",
     "output_type": "stream",
     "text": [
      "Avensis\n",
      "\n"
     ]
    }
   ],
   "source": [
    "with open(saved_list, \"r\") as f:\n",
    "    t = f.readline()\n",
    "print(t)"
   ]
  },
  {
   "cell_type": "code",
   "execution_count": null,
   "metadata": {
    "id": "qx4AmFZ0SUyf"
   },
   "outputs": [],
   "source": [
    "with open(saved_list, \"r\") as file:\n",
    "  saved_models = [model.strip() for model in file]"
   ]
  },
  {
   "cell_type": "code",
   "execution_count": null,
   "metadata": {
    "id": "QxJg-fKrSUyf",
    "outputId": "2cfb8908-0d25-420d-b569-6137bb010719"
   },
   "outputs": [
    {
     "data": {
      "text/plain": [
       "['Avensis', 'Camry', 'Corolla', 'Highlander', 'Land Cruiser']"
      ]
     },
     "execution_count": 35,
     "metadata": {},
     "output_type": "execute_result"
    }
   ],
   "source": [
    "saved_models[:5]"
   ]
  },
  {
   "cell_type": "code",
   "execution_count": null,
   "metadata": {
    "id": "63-HU-96SUyf",
    "outputId": "d23af38c-0222-479d-8130-e0ff77d4fed5"
   },
   "outputs": [
    {
     "name": "stdout",
     "output_type": "stream",
     "text": [
      "Nissan Lafesta ERROR\n",
      "Nissan R'nessa ERROR\n",
      "Haval M6 ERROR\n",
      "Audi Coupe ERROR\n",
      "Chevrolet Cavalier ERROR\n",
      "Honda e:NP1 ERROR\n",
      "Honda e:NP2 ERROR\n",
      "Honda e:NS1 ERROR\n",
      "Honda e:NS2 ERROR\n",
      "Honda Grace ERROR\n",
      "Honda That'S ERROR\n",
      "Mazda Proceed ERROR\n",
      "Mitsubishi Delica D:2 ERROR\n",
      "Mitsubishi Delica D:3 ERROR\n",
      "Mitsubishi Delica D:5 ERROR\n",
      "Opel Corsa ERROR\n",
      "Lexus GS ERROR\n",
      "Peugeot Expert ERROR\n",
      "GAC M8 ERROR\n",
      "Citroen GS ERROR\n",
      "Citroen XM ERROR\n",
      "JAC M5 ERROR\n",
      "Mini Coupe ERROR\n",
      "Dodge Caravan ERROR\n"
     ]
    }
   ],
   "source": [
    "result = []\n",
    "for model in final_df.iterrows():\n",
    "    model_name = model[1]['model'].replace(\"/\", \"\")\n",
    "    try:\n",
    "      with open(f\"{save_path}{model[1]['brand']}{model_name}\", \"r\") as outfile:\n",
    "        tmp = json.load(outfile)\n",
    "    except:\n",
    "      print(f\"{model[1]['brand']} {model_name} ERROR\")\n",
    "    result += tmp"
   ]
  },
  {
   "cell_type": "code",
   "execution_count": null,
   "metadata": {
    "id": "wbRZFNRBSUyg",
    "outputId": "7a19d634-9abe-4655-cee4-158babe865e5"
   },
   "outputs": [
    {
     "data": {
      "text/plain": [
       "512536"
      ]
     },
     "execution_count": 37,
     "metadata": {},
     "output_type": "execute_result"
    }
   ],
   "source": [
    "len(result)"
   ]
  },
  {
   "cell_type": "code",
   "execution_count": null,
   "metadata": {
    "colab": {
     "base_uri": "https://localhost:8080/",
     "height": 112
    },
    "id": "hPlNixG3Wiou",
    "outputId": "f9cb7a77-9f23-433c-f5e9-7119ba569189"
   },
   "outputs": [
    {
     "data": {
      "text/html": [
       "<div>\n",
       "<style scoped>\n",
       "    .dataframe tbody tr th:only-of-type {\n",
       "        vertical-align: middle;\n",
       "    }\n",
       "\n",
       "    .dataframe tbody tr th {\n",
       "        vertical-align: top;\n",
       "    }\n",
       "\n",
       "    .dataframe thead th {\n",
       "        text-align: right;\n",
       "    }\n",
       "</style>\n",
       "<table border=\"1\" class=\"dataframe\">\n",
       "  <thead>\n",
       "    <tr style=\"text-align: right;\">\n",
       "      <th></th>\n",
       "      <th>url</th>\n",
       "      <th>model</th>\n",
       "      <th>count</th>\n",
       "      <th>brand</th>\n",
       "    </tr>\n",
       "  </thead>\n",
       "  <tbody>\n",
       "    <tr>\n",
       "      <th>256</th>\n",
       "      <td>https://auto.ru/cars/bmw/m5/all/</td>\n",
       "      <td>M5</td>\n",
       "      <td>294</td>\n",
       "      <td>BMW</td>\n",
       "    </tr>\n",
       "    <tr>\n",
       "      <th>1639</th>\n",
       "      <td>https://auto.ru/cars/jac/m5/used/</td>\n",
       "      <td>M5</td>\n",
       "      <td>1</td>\n",
       "      <td>JAC</td>\n",
       "    </tr>\n",
       "  </tbody>\n",
       "</table>\n",
       "</div>"
      ],
      "text/plain": [
       "                                    url model  count brand\n",
       "256    https://auto.ru/cars/bmw/m5/all/    M5    294   BMW\n",
       "1639  https://auto.ru/cars/jac/m5/used/    M5      1   JAC"
      ]
     },
     "execution_count": 38,
     "metadata": {},
     "output_type": "execute_result"
    }
   ],
   "source": [
    "#During parsing were acqiured problems with duplictated labels(Label of model have already written to file with list of models, but file brandnamemodelname does not exist)\n",
    "#Decision to ignore them\n",
    "final_df[final_df[\"model\"] == \"M5\"]"
   ]
  },
  {
   "cell_type": "code",
   "execution_count": null,
   "metadata": {
    "colab": {
     "base_uri": "https://localhost:8080/"
    },
    "id": "1yrWyNyGpmVY",
    "outputId": "2567f7b1-c362-44d4-d9a9-c7ca41c7259d"
   },
   "outputs": [
    {
     "data": {
      "text/plain": [
       "{'engine_v': 1.8,\n",
       " 'engine_power': 129.0,\n",
       " 'fuel_type': 'Бензин',\n",
       " 'transmission_type': 'механика',\n",
       " 'salon_type': 'седан',\n",
       " 'wheel_drive': 'передний',\n",
       " 'color': 'синий',\n",
       " 'km': 283000,\n",
       " 'url': 'https://auto.ru/cars/used/sale/toyota/avensis/1126929489-2d46f1a7/',\n",
       " 'price': None,\n",
       " 'year': 2005,\n",
       " 'region': 'Казань',\n",
       " 'name': 'Toyota Avensis II',\n",
       " 'additional_tags': ['История авто бесплатно'],\n",
       " 'salon': 0,\n",
       " 'seller': 0,\n",
       " 'on order': 0,\n",
       " 'verified dealler': 0,\n",
       " 'model': 'test',\n",
       " 'brand': 'Avensis',\n",
       " 'page': 1}"
      ]
     },
     "execution_count": 39,
     "metadata": {},
     "output_type": "execute_result"
    }
   ],
   "source": [
    "result[0]"
   ]
  },
  {
   "cell_type": "code",
   "execution_count": null,
   "metadata": {
    "id": "BEh_hwzCQ17V"
   },
   "outputs": [],
   "source": [
    "df = pd.DataFrame(result)"
   ]
  }
 ],
 "metadata": {
  "colab": {
   "authorship_tag": "ABX9TyN4X7I7JIRBOIbTG9fFUhhh",
   "mount_file_id": "131kebNJidKt70mUGPfMD8XPAHaTRLX5j",
   "provenance": []
  },
  "kernelspec": {
   "display_name": "Python 3 (ipykernel)",
   "language": "python",
   "name": "python3"
  },
  "language_info": {
   "codemirror_mode": {
    "name": "ipython",
    "version": 3
   },
   "file_extension": ".py",
   "mimetype": "text/x-python",
   "name": "python",
   "nbconvert_exporter": "python",
   "pygments_lexer": "ipython3",
   "version": "3.13.1"
  }
 },
 "nbformat": 4,
 "nbformat_minor": 4
}
