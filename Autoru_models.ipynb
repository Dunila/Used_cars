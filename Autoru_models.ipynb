{
 "cells": [
  {
   "cell_type": "markdown",
   "metadata": {
    "id": "muCVekQv2f6e"
   },
   "source": [
    "# Importing libraries and setting global variables"
   ]
  },
  {
   "cell_type": "code",
   "execution_count": 1,
   "metadata": {
    "executionInfo": {
     "elapsed": 1,
     "status": "ok",
     "timestamp": 1742933604299,
     "user": {
      "displayName": "Danila Danilkin",
      "userId": "14833152738223051599"
     },
     "user_tz": -60
    },
    "id": "ODGnx2PdxZxZ"
   },
   "outputs": [],
   "source": [
    "import pandas as pd\n",
    "import numpy as np\n",
    "import os\n",
    "from joblib import dump, load\n",
    "\n",
    "import matplotlib.pyplot as plt\n",
    "import seaborn as sns\n",
    "\n",
    "from sklearn.model_selection import train_test_split\n",
    "from sklearn.metrics import mean_squared_error, mean_absolute_error, r2_score, root_mean_squared_error, mean_absolute_percentage_error\n",
    "from sklearn.linear_model import LinearRegression\n",
    "from sklearn.ensemble import RandomForestRegressor, ExtraTreesRegressor, GradientBoostingRegressor"
   ]
  },
  {
   "cell_type": "code",
   "execution_count": 2,
   "metadata": {
    "executionInfo": {
     "elapsed": 16,
     "status": "ok",
     "timestamp": 1742933606800,
     "user": {
      "displayName": "Danila Danilkin",
      "userId": "14833152738223051599"
     },
     "user_tz": -60
    },
    "id": "tVBv0jdazB6B"
   },
   "outputs": [],
   "source": [
    "ENV = \"jn\" #or jn for work on local machine\n",
    "\n",
    "if ENV == \"colab\":\n",
    "  DATA_PATH = \"/content/drive/MyDrive/infa/elsefiles/\"\n",
    "elif ENV == \"jn\":\n",
    "  DATA_PATH = \"C:/Users/danil/Desktop/infa analog/datas\""
   ]
  },
  {
   "cell_type": "code",
   "execution_count": 3,
   "metadata": {
    "executionInfo": {
     "elapsed": 18,
     "status": "ok",
     "timestamp": 1742933608596,
     "user": {
      "displayName": "Danila Danilkin",
      "userId": "14833152738223051599"
     },
     "user_tz": -60
    },
    "id": "FUas8j3cSUzA"
   },
   "outputs": [],
   "source": [
    "#Function to print basic metrics\n",
    "def stats(y_pred, y_test, log=False, rounded=None):\n",
    "    result = {}\n",
    "    if log:\n",
    "        y_pred = np.expm1(y_pred)\n",
    "        y_test = np.expm1(y_test)\n",
    "    if rounded:\n",
    "        y_pred = np.round(np.array(y_pred)/rounded, 1)*rounded\n",
    "    result[\"MSE\"] = mean_squared_error(y_pred, y_test)\n",
    "    result[\"MAE\"] = mean_absolute_error(y_pred, y_test)\n",
    "    result[\"MAPE\"] = mean_absolute_percentage_error(y_pred, y_test)\n",
    "    result[\"RMSE\"] = root_mean_squared_error(y_pred, y_test)\n",
    "    result[\"R2\"] = r2_score(y_pred, y_test)\n",
    "    return pd.Series(result)"
   ]
  },
  {
   "cell_type": "code",
   "execution_count": 114,
   "metadata": {},
   "outputs": [],
   "source": [
    "def print_obj(i):\n",
    "  return df_test.loc[i, :][df_test.loc[i, :] > 0]"
   ]
  },
  {
   "cell_type": "markdown",
   "metadata": {
    "id": "HG3cC8RN2p8w"
   },
   "source": [
    "# Import and preparing data"
   ]
  },
  {
   "cell_type": "code",
   "execution_count": 4,
   "metadata": {
    "id": "TRF4V78S0DC7"
   },
   "outputs": [],
   "source": [
    "df = pd.read_csv(os.path.join(DATA_PATH, \"autos_df.csv\"))"
   ]
  },
  {
   "cell_type": "code",
   "execution_count": 5,
   "metadata": {},
   "outputs": [
    {
     "data": {
      "text/plain": [
       "(377849, 974)"
      ]
     },
     "execution_count": 5,
     "metadata": {},
     "output_type": "execute_result"
    }
   ],
   "source": [
    "df.shape"
   ]
  },
  {
   "cell_type": "code",
   "execution_count": 6,
   "metadata": {},
   "outputs": [
    {
     "data": {
      "text/html": [
       "<div>\n",
       "<style scoped>\n",
       "    .dataframe tbody tr th:only-of-type {\n",
       "        vertical-align: middle;\n",
       "    }\n",
       "\n",
       "    .dataframe tbody tr th {\n",
       "        vertical-align: top;\n",
       "    }\n",
       "\n",
       "    .dataframe thead th {\n",
       "        text-align: right;\n",
       "    }\n",
       "</style>\n",
       "<table border=\"1\" class=\"dataframe\">\n",
       "  <thead>\n",
       "    <tr style=\"text-align: right;\">\n",
       "      <th></th>\n",
       "      <th>engine_v</th>\n",
       "      <th>engine_power</th>\n",
       "      <th>km</th>\n",
       "      <th>price</th>\n",
       "      <th>year</th>\n",
       "      <th>salon</th>\n",
       "      <th>on order</th>\n",
       "      <th>verified dealler</th>\n",
       "      <th>population</th>\n",
       "      <th>История авто бесплатно</th>\n",
       "      <th>...</th>\n",
       "      <th>region:Тюменская область</th>\n",
       "      <th>region:Удмуртская Республика</th>\n",
       "      <th>region:Ульяновская область</th>\n",
       "      <th>region:Хабаровский край</th>\n",
       "      <th>region:Хакасия</th>\n",
       "      <th>region:Ханты-Мансийский автономный округ — Югра</th>\n",
       "      <th>region:Челябинская область</th>\n",
       "      <th>region:Чувашская Республика</th>\n",
       "      <th>region:Ямало-Ненецкий автономный округ</th>\n",
       "      <th>region:Ярославская область</th>\n",
       "    </tr>\n",
       "  </thead>\n",
       "  <tbody>\n",
       "    <tr>\n",
       "      <th>0</th>\n",
       "      <td>3.0</td>\n",
       "      <td>340.0</td>\n",
       "      <td>230000</td>\n",
       "      <td>3390000.0</td>\n",
       "      <td>2014</td>\n",
       "      <td>0</td>\n",
       "      <td>0</td>\n",
       "      <td>0</td>\n",
       "      <td>1318604.0</td>\n",
       "      <td>1</td>\n",
       "      <td>...</td>\n",
       "      <td>0</td>\n",
       "      <td>0</td>\n",
       "      <td>0</td>\n",
       "      <td>0</td>\n",
       "      <td>0</td>\n",
       "      <td>0</td>\n",
       "      <td>0</td>\n",
       "      <td>0</td>\n",
       "      <td>0</td>\n",
       "      <td>0</td>\n",
       "    </tr>\n",
       "    <tr>\n",
       "      <th>1</th>\n",
       "      <td>3.0</td>\n",
       "      <td>333.0</td>\n",
       "      <td>160500</td>\n",
       "      <td>3550000.0</td>\n",
       "      <td>2016</td>\n",
       "      <td>0</td>\n",
       "      <td>0</td>\n",
       "      <td>0</td>\n",
       "      <td>13149803.0</td>\n",
       "      <td>1</td>\n",
       "      <td>...</td>\n",
       "      <td>0</td>\n",
       "      <td>0</td>\n",
       "      <td>0</td>\n",
       "      <td>0</td>\n",
       "      <td>0</td>\n",
       "      <td>0</td>\n",
       "      <td>0</td>\n",
       "      <td>0</td>\n",
       "      <td>0</td>\n",
       "      <td>0</td>\n",
       "    </tr>\n",
       "    <tr>\n",
       "      <th>2</th>\n",
       "      <td>1.7</td>\n",
       "      <td>80.0</td>\n",
       "      <td>170000</td>\n",
       "      <td>450000.0</td>\n",
       "      <td>2011</td>\n",
       "      <td>0</td>\n",
       "      <td>0</td>\n",
       "      <td>0</td>\n",
       "      <td>68349.0</td>\n",
       "      <td>1</td>\n",
       "      <td>...</td>\n",
       "      <td>0</td>\n",
       "      <td>0</td>\n",
       "      <td>0</td>\n",
       "      <td>0</td>\n",
       "      <td>0</td>\n",
       "      <td>0</td>\n",
       "      <td>0</td>\n",
       "      <td>0</td>\n",
       "      <td>0</td>\n",
       "      <td>0</td>\n",
       "    </tr>\n",
       "    <tr>\n",
       "      <th>3</th>\n",
       "      <td>1.5</td>\n",
       "      <td>147.0</td>\n",
       "      <td>0</td>\n",
       "      <td>1905330.0</td>\n",
       "      <td>2024</td>\n",
       "      <td>0</td>\n",
       "      <td>0</td>\n",
       "      <td>0</td>\n",
       "      <td>13149803.0</td>\n",
       "      <td>0</td>\n",
       "      <td>...</td>\n",
       "      <td>0</td>\n",
       "      <td>0</td>\n",
       "      <td>0</td>\n",
       "      <td>0</td>\n",
       "      <td>0</td>\n",
       "      <td>0</td>\n",
       "      <td>0</td>\n",
       "      <td>0</td>\n",
       "      <td>0</td>\n",
       "      <td>0</td>\n",
       "    </tr>\n",
       "    <tr>\n",
       "      <th>4</th>\n",
       "      <td>4.8</td>\n",
       "      <td>367.0</td>\n",
       "      <td>78000</td>\n",
       "      <td>2299990.0</td>\n",
       "      <td>2008</td>\n",
       "      <td>0</td>\n",
       "      <td>0</td>\n",
       "      <td>0</td>\n",
       "      <td>1177058.0</td>\n",
       "      <td>0</td>\n",
       "      <td>...</td>\n",
       "      <td>0</td>\n",
       "      <td>0</td>\n",
       "      <td>0</td>\n",
       "      <td>0</td>\n",
       "      <td>0</td>\n",
       "      <td>0</td>\n",
       "      <td>1</td>\n",
       "      <td>0</td>\n",
       "      <td>0</td>\n",
       "      <td>0</td>\n",
       "    </tr>\n",
       "  </tbody>\n",
       "</table>\n",
       "<p>5 rows × 974 columns</p>\n",
       "</div>"
      ],
      "text/plain": [
       "   engine_v  engine_power      km      price  year  salon  on order  \\\n",
       "0       3.0         340.0  230000  3390000.0  2014      0         0   \n",
       "1       3.0         333.0  160500  3550000.0  2016      0         0   \n",
       "2       1.7          80.0  170000   450000.0  2011      0         0   \n",
       "3       1.5         147.0       0  1905330.0  2024      0         0   \n",
       "4       4.8         367.0   78000  2299990.0  2008      0         0   \n",
       "\n",
       "   verified dealler  population  История авто бесплатно  ...  \\\n",
       "0                 0   1318604.0                       1  ...   \n",
       "1                 0  13149803.0                       1  ...   \n",
       "2                 0     68349.0                       1  ...   \n",
       "3                 0  13149803.0                       0  ...   \n",
       "4                 0   1177058.0                       0  ...   \n",
       "\n",
       "   region:Тюменская область  region:Удмуртская Республика  \\\n",
       "0                         0                             0   \n",
       "1                         0                             0   \n",
       "2                         0                             0   \n",
       "3                         0                             0   \n",
       "4                         0                             0   \n",
       "\n",
       "   region:Ульяновская область  region:Хабаровский край  region:Хакасия  \\\n",
       "0                           0                        0               0   \n",
       "1                           0                        0               0   \n",
       "2                           0                        0               0   \n",
       "3                           0                        0               0   \n",
       "4                           0                        0               0   \n",
       "\n",
       "   region:Ханты-Мансийский автономный округ — Югра  \\\n",
       "0                                                0   \n",
       "1                                                0   \n",
       "2                                                0   \n",
       "3                                                0   \n",
       "4                                                0   \n",
       "\n",
       "   region:Челябинская область  region:Чувашская Республика  \\\n",
       "0                           0                            0   \n",
       "1                           0                            0   \n",
       "2                           0                            0   \n",
       "3                           0                            0   \n",
       "4                           1                            0   \n",
       "\n",
       "   region:Ямало-Ненецкий автономный округ  region:Ярославская область  \n",
       "0                                       0                           0  \n",
       "1                                       0                           0  \n",
       "2                                       0                           0  \n",
       "3                                       0                           0  \n",
       "4                                       0                           0  \n",
       "\n",
       "[5 rows x 974 columns]"
      ]
     },
     "execution_count": 6,
     "metadata": {},
     "output_type": "execute_result"
    }
   ],
   "source": [
    "df.head()"
   ]
  },
  {
   "cell_type": "code",
   "execution_count": 7,
   "metadata": {
    "id": "k3iyEHR8SUzA"
   },
   "outputs": [],
   "source": [
    "X_train, X_test, y_train, y_test = train_test_split(df.drop(columns=[\"log_price\", \"price\"]), df[\"price\"], test_size=0.3, random_state=42)"
   ]
  },
  {
   "cell_type": "markdown",
   "metadata": {},
   "source": [
    "# Baseline model - Linear Regression and data preparation with ML"
   ]
  },
  {
   "cell_type": "code",
   "execution_count": 8,
   "metadata": {
    "id": "qhRJRuEPSUzB"
   },
   "outputs": [],
   "source": [
    "l_model = LinearRegression()\n",
    "l_model.fit(X_train, y_train)\n",
    "y_pred = l_model.predict(X_test)"
   ]
  },
  {
   "cell_type": "code",
   "execution_count": 9,
   "metadata": {
    "id": "nsbSp4whSUzC",
    "outputId": "ea3dbe73-e1ec-42b3-affc-fefd76633683",
    "scrolled": true
   },
   "outputs": [
    {
     "data": {
      "text/plain": [
       "MSE     3.532863e+12\n",
       "MAE     8.540493e+05\n",
       "MAPE    3.409075e+00\n",
       "RMSE    1.879591e+06\n",
       "R2      6.141563e-01\n",
       "dtype: float64"
      ]
     },
     "execution_count": 9,
     "metadata": {},
     "output_type": "execute_result"
    }
   ],
   "source": [
    "stats(y_pred, y_test, log=False)"
   ]
  },
  {
   "cell_type": "code",
   "execution_count": 10,
   "metadata": {},
   "outputs": [],
   "source": [
    "X_train, X_test, y_train, y_test = train_test_split(df.drop(columns=[\"log_price\", \"price\"]), df[\"log_price\"], test_size=0.3, random_state=42)"
   ]
  },
  {
   "cell_type": "code",
   "execution_count": 11,
   "metadata": {},
   "outputs": [],
   "source": [
    "l_model = LinearRegression()\n",
    "l_model.fit(X_train, y_train)\n",
    "y_pred = l_model.predict(X_test)"
   ]
  },
  {
   "cell_type": "code",
   "execution_count": 12,
   "metadata": {},
   "outputs": [
    {
     "data": {
      "text/plain": [
       "MSE     2.264972e+12\n",
       "MAE     4.314759e+05\n",
       "MAPE    1.761609e-01\n",
       "RMSE    1.504982e+06\n",
       "R2      7.178265e-01\n",
       "dtype: float64"
      ]
     },
     "execution_count": 12,
     "metadata": {},
     "output_type": "execute_result"
    }
   ],
   "source": [
    "stats(y_pred, y_test, log=True)"
   ]
  },
  {
   "cell_type": "markdown",
   "metadata": {},
   "source": [
    "Better to log price"
   ]
  },
  {
   "cell_type": "markdown",
   "metadata": {},
   "source": [
    "________________________________________________________________________________________________________________________________________________________"
   ]
  },
  {
   "cell_type": "code",
   "execution_count": 125,
   "metadata": {},
   "outputs": [
    {
     "data": {
      "text/plain": [
       "['linear_model.joblib']"
      ]
     },
     "execution_count": 125,
     "metadata": {},
     "output_type": "execute_result"
    }
   ],
   "source": [
    "#Save linear model\n",
    "#dump(l_model, \"linear_model.joblib\")"
   ]
  },
  {
   "cell_type": "code",
   "execution_count": 126,
   "metadata": {},
   "outputs": [],
   "source": [
    "#Importing linear model\n",
    "#l_model = load(\"linear_model.joblib\")"
   ]
  },
  {
   "cell_type": "markdown",
   "metadata": {},
   "source": [
    "________________________________________________________________________________________________________________________________________________________"
   ]
  },
  {
   "cell_type": "code",
   "execution_count": 14,
   "metadata": {},
   "outputs": [
    {
     "name": "stdout",
     "output_type": "stream",
     "text": [
      "_________________________________\n",
      "000\n",
      "MSE     2.264972e+12\n",
      "MAE     4.314759e+05\n",
      "MAPE    1.761609e-01\n",
      "RMSE    1.504982e+06\n",
      "R2      7.178265e-01\n",
      "dtype: float64\n",
      "_________________________________\n",
      "001\n",
      "MSE     2.441335e+12\n",
      "MAE     4.405422e+05\n",
      "MAPE    1.768174e-01\n",
      "RMSE    1.562477e+06\n",
      "R2      6.790716e-01\n",
      "dtype: float64\n",
      "_________________________________\n",
      "010\n",
      "MSE     2.282307e+12\n",
      "MAE     4.317242e+05\n",
      "MAPE    1.756837e-01\n",
      "RMSE    1.510730e+06\n",
      "R2      7.134705e-01\n",
      "dtype: float64\n",
      "_________________________________\n",
      "011\n",
      "MSE     2.443971e+12\n",
      "MAE     4.402932e+05\n",
      "MAPE    1.765375e-01\n",
      "RMSE    1.563321e+06\n",
      "R2      6.783195e-01\n",
      "dtype: float64\n",
      "_________________________________\n",
      "100\n",
      "MSE     2.239277e+12\n",
      "MAE     4.402879e+05\n",
      "MAPE    1.888674e-01\n",
      "RMSE    1.496421e+06\n",
      "R2      7.468217e-01\n",
      "dtype: float64\n",
      "_________________________________\n",
      "101\n",
      "MSE     2.368444e+12\n",
      "MAE     4.477852e+05\n",
      "MAPE    1.889846e-01\n",
      "RMSE    1.538975e+06\n",
      "R2      7.193965e-01\n",
      "dtype: float64\n",
      "_________________________________\n",
      "110\n",
      "MSE     2.249038e+12\n",
      "MAE     4.404518e+05\n",
      "MAPE    1.883548e-01\n",
      "RMSE    1.499679e+06\n",
      "R2      7.442830e-01\n",
      "dtype: float64\n",
      "_________________________________\n",
      "111\n",
      "MSE     2.369718e+12\n",
      "MAE     4.476253e+05\n",
      "MAPE    1.887574e-01\n",
      "RMSE    1.539389e+06\n",
      "R2      7.191039e-01\n",
      "dtype: float64\n"
     ]
    }
   ],
   "source": [
    "#There are few numeric features that could be replaced by log. Let's learn best combination\n",
    "df1 = df.copy()\n",
    "for combination in [\"000\", \"001\", \"010\", \"011\", \"100\", \"101\", \"110\", \"111\"]:\n",
    "    if combination[0] == \"1\":\n",
    "       df1[\"km\"] = df[\"km\"].apply(np.log1p)\n",
    "    else:\n",
    "        df1[\"km\"] = df[\"km\"]\n",
    "    if combination[1] == \"1\":\n",
    "       df1[\"engine_v\"] = df[\"engine_v\"].apply(np.log1p)\n",
    "    else:\n",
    "        df1[\"engine_v\"] = df[\"engine_v\"]\n",
    "    if combination[2] == \"1\":\n",
    "       df1[\"engine_power\"] = df[\"engine_power\"].apply(np.log1p)\n",
    "    else:\n",
    "        df1[\"engine_power\"] = df[\"engine_power\"]\n",
    "\n",
    "    X_train, X_test, y_train, y_test = train_test_split(df1.drop(columns=[\"log_price\", \"price\"]), df[\"log_price\"], test_size=0.3, random_state=42)\n",
    "    l_model = LinearRegression()\n",
    "    l_model.fit(X_train, y_train)\n",
    "    y_pred = l_model.predict(X_test)\n",
    "    print(\"_________________________________\")\n",
    "    print(combination)\n",
    "    print(stats(y_pred, y_test, log=True))"
   ]
  },
  {
   "cell_type": "markdown",
   "metadata": {},
   "source": [
    "Combination 100 is the best.\n",
    "Logariphm of price increases results of Linear Regressor(R^2 4,04%, but MAE also increases +2,04%). Let's replace km with log_km "
   ]
  },
  {
   "cell_type": "code",
   "execution_count": 15,
   "metadata": {},
   "outputs": [],
   "source": [
    "df[\"km\"] = df[\"km\"].apply(np.log1p)"
   ]
  },
  {
   "cell_type": "code",
   "execution_count": 16,
   "metadata": {},
   "outputs": [],
   "source": [
    "X_train, X_test, y_train, y_test = train_test_split(df.drop(columns=[\"log_price\", \"price\"]), df[\"log_price\"], test_size=0.3, random_state=42)"
   ]
  },
  {
   "cell_type": "markdown",
   "metadata": {},
   "source": [
    "Simple linear regressor on log_price and with replacing km by logariphm ha R^2 0.747 and MAE 440 000 - not a bad result for baseline model"
   ]
  },
  {
   "cell_type": "markdown",
   "metadata": {},
   "source": [
    "________________________________________________________________________________________________________________________________________________________"
   ]
  },
  {
   "cell_type": "markdown",
   "metadata": {},
   "source": [
    "In the dataset were outliers on price. Let's see what if we will train on limited on price dataset."
   ]
  },
  {
   "cell_type": "code",
   "execution_count": 164,
   "metadata": {},
   "outputs": [],
   "source": [
    "price_limit = 35_000_000\n",
    "X_train_pl, X_test_pl, y_train_pl, y_test_pl = train_test_split(df[df[\"price\"]<=price_limit].drop(columns=[\"log_price\", \"price\"]), df[df[\"price\"]<=price_limit][\"log_price\"], test_size=0.3, random_state=42)"
   ]
  },
  {
   "cell_type": "code",
   "execution_count": 159,
   "metadata": {},
   "outputs": [],
   "source": [
    "l_model_pl = LinearRegression()\n",
    "l_model_pl.fit(X_train, y_train)\n",
    "y_pred = l_model_pl.predict(X_test)"
   ]
  },
  {
   "cell_type": "code",
   "execution_count": 160,
   "metadata": {},
   "outputs": [
    {
     "data": {
      "text/plain": [
       "MSE     1.122789e+12\n",
       "MAE     4.285857e+05\n",
       "MAPE    1.652210e-01\n",
       "RMSE    1.059618e+06\n",
       "R2      8.656437e-01\n",
       "dtype: float64"
      ]
     },
     "execution_count": 160,
     "metadata": {},
     "output_type": "execute_result"
    }
   ],
   "source": [
    "stats(y_pred, y_test, log=True)"
   ]
  },
  {
   "cell_type": "code",
   "execution_count": 161,
   "metadata": {},
   "outputs": [],
   "source": [
    "X_train, X_test, y_train, y_test = train_test_split(df.drop(columns=[\"log_price\", \"price\"]), df[\"log_price\"], test_size=0.3, random_state=42)"
   ]
  },
  {
   "cell_type": "code",
   "execution_count": 162,
   "metadata": {},
   "outputs": [
    {
     "data": {
      "text/plain": [
       "MSE     2.254398e+12\n",
       "MAE     4.411888e+05\n",
       "MAPE    1.859017e-01\n",
       "RMSE    1.501465e+06\n",
       "R2      7.389115e-01\n",
       "dtype: float64"
      ]
     },
     "execution_count": 162,
     "metadata": {},
     "output_type": "execute_result"
    }
   ],
   "source": [
    "y_pred = l_model_pl.predict(X_test)\n",
    "stats(y_pred, y_test, log=True)"
   ]
  },
  {
   "cell_type": "markdown",
   "metadata": {},
   "source": [
    "R^2 increases a litle bit, MAE increases too. For now let's keep training models on the initial dataset"
   ]
  },
  {
   "cell_type": "markdown",
   "metadata": {},
   "source": [
    "________________________________________________________________________________________________________________________________________________________"
   ]
  },
  {
   "cell_type": "markdown",
   "metadata": {},
   "source": [
    "# Baseline model - Random Forrest Regressor"
   ]
  },
  {
   "cell_type": "code",
   "execution_count": 17,
   "metadata": {
    "id": "84xTdcIUSUzA",
    "outputId": "d53790a5-b978-4913-e62c-273fbf3a4226"
   },
   "outputs": [
    {
     "name": "stderr",
     "output_type": "stream",
     "text": [
      "[Parallel(n_jobs=-1)]: Using backend ThreadingBackend with 12 concurrent workers.\n",
      "[Parallel(n_jobs=-1)]: Done  26 tasks      | elapsed:   30.3s\n",
      "[Parallel(n_jobs=-1)]: Done 100 out of 100 | elapsed:  1.5min finished\n",
      "[Parallel(n_jobs=12)]: Using backend ThreadingBackend with 12 concurrent workers.\n",
      "[Parallel(n_jobs=12)]: Done  26 tasks      | elapsed:    0.1s\n",
      "[Parallel(n_jobs=12)]: Done 100 out of 100 | elapsed:    0.6s finished\n"
     ]
    }
   ],
   "source": [
    "#building standard RandomForest as baseline\n",
    "model = RandomForestRegressor(random_state=42, n_jobs=-1, verbose=1)\n",
    "model.fit(X_train, y_train)\n",
    "#or importing\n",
    "#model = load(\"baseline_rfr1.joblib\")\n",
    "\n",
    "y_pred = model.predict(X_test)"
   ]
  },
  {
   "cell_type": "code",
   "execution_count": 18,
   "metadata": {
    "id": "WzUE92jVSUzA",
    "outputId": "d79c2a75-4831-42e8-9096-9a2b87903ced"
   },
   "outputs": [
    {
     "data": {
      "text/plain": [
       "MSE     1.401275e+12\n",
       "MAE     2.511726e+05\n",
       "MAPE    1.070229e-01\n",
       "RMSE    1.183755e+06\n",
       "R2      8.693905e-01\n",
       "dtype: float64"
      ]
     },
     "execution_count": 18,
     "metadata": {},
     "output_type": "execute_result"
    }
   ],
   "source": [
    "stats(y_pred, y_test, log=True)"
   ]
  },
  {
   "cell_type": "markdown",
   "metadata": {},
   "source": [
    "R^2 is 86,94% and MAPE 10,702% - good result for baseline. Let's try to improve it"
   ]
  },
  {
   "cell_type": "markdown",
   "metadata": {},
   "source": [
    "TODO: learn on MAE "
   ]
  },
  {
   "cell_type": "code",
   "execution_count": null,
   "metadata": {},
   "outputs": [],
   "source": [
    "#Saving model\n",
    "#dump(model, \"baseline_rfr1.joblib\")"
   ]
  },
  {
   "cell_type": "code",
   "execution_count": 19,
   "metadata": {
    "id": "84xTdcIUSUzA",
    "outputId": "d53790a5-b978-4913-e62c-273fbf3a4226",
    "scrolled": true
   },
   "outputs": [],
   "source": [
    "#Let's see criterion MAE\n",
    "#model = RandomForestRegressor(random_state=42, n_jobs=-1, verbose=3, criterion=\"absolute_error\")\n",
    "#model.fit(X_train, y_train)\n",
    "#y_pred = model.predict(X_test)"
   ]
  },
  {
   "cell_type": "code",
   "execution_count": 20,
   "metadata": {
    "id": "WzUE92jVSUzA",
    "outputId": "d79c2a75-4831-42e8-9096-9a2b87903ced"
   },
   "outputs": [],
   "source": [
    "#stats(y_pred, y_test, log=True)"
   ]
  },
  {
   "cell_type": "markdown",
   "metadata": {},
   "source": [
    "____________________________________________________________________________________________________________________________"
   ]
  },
  {
   "cell_type": "code",
   "execution_count": 165,
   "metadata": {},
   "outputs": [
    {
     "name": "stderr",
     "output_type": "stream",
     "text": [
      "[Parallel(n_jobs=-1)]: Using backend ThreadingBackend with 12 concurrent workers.\n",
      "[Parallel(n_jobs=-1)]: Done  26 tasks      | elapsed:   29.9s\n",
      "[Parallel(n_jobs=-1)]: Done 100 out of 100 | elapsed:  1.5min finished\n",
      "[Parallel(n_jobs=12)]: Using backend ThreadingBackend with 12 concurrent workers.\n",
      "[Parallel(n_jobs=12)]: Done  26 tasks      | elapsed:    0.2s\n",
      "[Parallel(n_jobs=12)]: Done 100 out of 100 | elapsed:    0.6s finished\n"
     ]
    },
    {
     "data": {
      "text/plain": [
       "MSE     1.313419e+12\n",
       "MAE     1.580992e+05\n",
       "MAPE    6.229461e-02\n",
       "RMSE    1.146045e+06\n",
       "R2      8.741854e-01\n",
       "dtype: float64"
      ]
     },
     "execution_count": 165,
     "metadata": {},
     "output_type": "execute_result"
    }
   ],
   "source": [
    "model11 = RandomForestRegressor(random_state=42, n_jobs=-1, verbose=1)\n",
    "model11.fit(X_train_pl, y_train_pl)\n",
    "#or importing\n",
    "#model = load(\"baseline_rfr1.joblib\")\n",
    "\n",
    "y_pred = model11.predict(X_test)\n",
    "stats(y_pred, y_test, log=True)"
   ]
  },
  {
   "cell_type": "markdown",
   "metadata": {},
   "source": [
    "Limiting dataset in case of Random Forest improving results even better than in case of Linear Regression"
   ]
  },
  {
   "cell_type": "markdown",
   "metadata": {},
   "source": [
    "## Feature comparison with white noise"
   ]
  },
  {
   "cell_type": "code",
   "execution_count": 21,
   "metadata": {},
   "outputs": [],
   "source": [
    "#We'll create feature w_n being just meaningless white noise and we'll compare input of w_n with others features\n",
    "df[\"w_n\"] = np.random.normal(0, 1, size=len(df))\n",
    "X_train, X_test, y_train, y_test = train_test_split(df.drop(columns=[\"log_price\", \"price\"]), df[\"log_price\"], test_size=0.3, random_state=42)"
   ]
  },
  {
   "cell_type": "code",
   "execution_count": 22,
   "metadata": {},
   "outputs": [
    {
     "name": "stderr",
     "output_type": "stream",
     "text": [
      "[Parallel(n_jobs=-1)]: Using backend ThreadingBackend with 12 concurrent workers.\n",
      "[Parallel(n_jobs=-1)]: Done  26 tasks      | elapsed:   31.2s\n",
      "[Parallel(n_jobs=-1)]: Done 100 out of 100 | elapsed:  1.5min finished\n",
      "[Parallel(n_jobs=12)]: Using backend ThreadingBackend with 12 concurrent workers.\n",
      "[Parallel(n_jobs=12)]: Done  26 tasks      | elapsed:    0.1s\n",
      "[Parallel(n_jobs=12)]: Done 100 out of 100 | elapsed:    0.6s finished\n"
     ]
    }
   ],
   "source": [
    "model = RandomForestRegressor(random_state=42, n_jobs=-1, verbose=1)\n",
    "model.fit(X_train, y_train)\n",
    "y_pred = model.predict(X_test)"
   ]
  },
  {
   "cell_type": "code",
   "execution_count": 23,
   "metadata": {},
   "outputs": [
    {
     "data": {
      "text/plain": [
       "MSE     1.426910e+12\n",
       "MAE     2.589396e+05\n",
       "MAPE    1.093983e-01\n",
       "RMSE    1.194533e+06\n",
       "R2      8.664086e-01\n",
       "dtype: float64"
      ]
     },
     "execution_count": 23,
     "metadata": {},
     "output_type": "execute_result"
    }
   ],
   "source": [
    "stats(y_pred, y_test, log=True)"
   ]
  },
  {
   "cell_type": "code",
   "execution_count": 24,
   "metadata": {},
   "outputs": [
    {
     "data": {
      "image/png": "[encoded data removed]",
      "text/plain": [
       "<Figure size 1000x1000 with 1 Axes>"
      ]
     },
     "metadata": {},
     "output_type": "display_data"
    }
   ],
   "source": [
    "plt.rcParams['figure.figsize'] = (10,10)\n",
    "feat_importances = pd.Series(model.feature_importances_, index=X_train.columns)\n",
    "feat_importances.nlargest(15).plot(kind='barh')\n",
    "plt.title(\"Feature importance\")\n",
    "plt.show()"
   ]
  },
  {
   "cell_type": "markdown",
   "metadata": {
    "id": "DYNlq-FwSUzB"
   },
   "source": [
    "White noise is on 10th place. So theoraticly 962(972-10) features are unsignificant and we could drop them. By the way we won't do this and just will try to search optimal model and hyperparametres"
   ]
  },
  {
   "cell_type": "code",
   "execution_count": 25,
   "metadata": {},
   "outputs": [
    {
     "data": {
      "text/plain": [
       "(264494, 973)"
      ]
     },
     "execution_count": 25,
     "metadata": {},
     "output_type": "execute_result"
    }
   ],
   "source": [
    "X_train.shape"
   ]
  },
  {
   "cell_type": "code",
   "execution_count": 26,
   "metadata": {},
   "outputs": [],
   "source": [
    "#Deleting white noise out of everywhere\n",
    "df = df.drop(columns=[\"w_n\"])\n",
    "X_train = X_train.drop(columns=[\"w_n\"])\n",
    "X_test = X_test.drop(columns=[\"w_n\"])"
   ]
  },
  {
   "cell_type": "markdown",
   "metadata": {},
   "source": [
    "## Random Forest Regressor on only BWM"
   ]
  },
  {
   "cell_type": "code",
   "execution_count": 27,
   "metadata": {
    "id": "5yW8RpiYSUzB"
   },
   "outputs": [],
   "source": [
    "X_bmw_train, X_bmw_test, y_bmw_train, y_bmw_test = train_test_split(df[df[\"brand:BMW\"]==1].drop(columns=[\"log_price\", \"price\"]), df[df[\"brand:BMW\"]==1][\"log_price\"], test_size=0.3)"
   ]
  },
  {
   "cell_type": "code",
   "execution_count": 28,
   "metadata": {
    "id": "Qe8L9AASSUzB",
    "outputId": "30819969-6e1b-4b6d-aaac-cbe747282507"
   },
   "outputs": [
    {
     "data": {
      "text/plain": [
       "((13328, 972), (5712, 972))"
      ]
     },
     "execution_count": 28,
     "metadata": {},
     "output_type": "execute_result"
    }
   ],
   "source": [
    "X_bmw_train.shape, X_bmw_test.shape"
   ]
  },
  {
   "cell_type": "code",
   "execution_count": 29,
   "metadata": {
    "id": "J7vqk49ASUzB",
    "outputId": "b9ff9458-7aaa-4d60-d37e-289092f9fb30"
   },
   "outputs": [
    {
     "name": "stderr",
     "output_type": "stream",
     "text": [
      "[Parallel(n_jobs=-1)]: Using backend ThreadingBackend with 12 concurrent workers.\n",
      "[Parallel(n_jobs=-1)]: Done  26 tasks      | elapsed:    0.3s\n",
      "[Parallel(n_jobs=-1)]: Done 100 out of 100 | elapsed:    1.2s finished\n",
      "[Parallel(n_jobs=12)]: Using backend ThreadingBackend with 12 concurrent workers.\n",
      "[Parallel(n_jobs=12)]: Done  26 tasks      | elapsed:    0.0s\n",
      "[Parallel(n_jobs=12)]: Done 100 out of 100 | elapsed:    0.0s finished\n"
     ]
    }
   ],
   "source": [
    "model = RandomForestRegressor(random_state=42, n_jobs=-1, verbose=1)\n",
    "model.fit(X_bmw_train, y_bmw_train)\n",
    "y_bmw_pred = model.predict(X_bmw_test)"
   ]
  },
  {
   "cell_type": "code",
   "execution_count": 30,
   "metadata": {
    "id": "GQS__3s3SUzB",
    "outputId": "2bd0fd19-0276-47ce-c607-ee5820323a20",
    "scrolled": true
   },
   "outputs": [
    {
     "data": {
      "text/plain": [
       "MSE     8.563830e+11\n",
       "MAE     5.089957e+05\n",
       "MAPE    1.082629e-01\n",
       "RMSE    9.254097e+05\n",
       "R2      9.627692e-01\n",
       "dtype: float64"
      ]
     },
     "execution_count": 30,
     "metadata": {},
     "output_type": "execute_result"
    }
   ],
   "source": [
    "stats(y_bmw_pred, y_bmw_test, log=True)"
   ]
  },
  {
   "cell_type": "markdown",
   "metadata": {},
   "source": [
    "## Random Forest Regressor on only Kia"
   ]
  },
  {
   "cell_type": "code",
   "execution_count": 31,
   "metadata": {
    "id": "5yW8RpiYSUzB"
   },
   "outputs": [],
   "source": [
    "X_kia_train, X_kia_test, y_kia_train, y_kia_test = train_test_split(df[df[\"brand:Kia\"]==1].drop(columns=[\"log_price\", \"price\"]), df[df[\"brand:Kia\"]==1][\"log_price\"], test_size=0.3)"
   ]
  },
  {
   "cell_type": "code",
   "execution_count": 32,
   "metadata": {
    "id": "Qe8L9AASSUzB",
    "outputId": "30819969-6e1b-4b6d-aaac-cbe747282507"
   },
   "outputs": [
    {
     "data": {
      "text/plain": [
       "((13645, 972), (5849, 972))"
      ]
     },
     "execution_count": 32,
     "metadata": {},
     "output_type": "execute_result"
    }
   ],
   "source": [
    "X_kia_train.shape, X_kia_test.shape"
   ]
  },
  {
   "cell_type": "code",
   "execution_count": 33,
   "metadata": {
    "id": "J7vqk49ASUzB",
    "outputId": "b9ff9458-7aaa-4d60-d37e-289092f9fb30"
   },
   "outputs": [
    {
     "name": "stderr",
     "output_type": "stream",
     "text": [
      "[Parallel(n_jobs=-1)]: Using backend ThreadingBackend with 12 concurrent workers.\n",
      "[Parallel(n_jobs=-1)]: Done  26 tasks      | elapsed:    0.4s\n",
      "[Parallel(n_jobs=-1)]: Done 100 out of 100 | elapsed:    1.3s finished\n",
      "[Parallel(n_jobs=12)]: Using backend ThreadingBackend with 12 concurrent workers.\n",
      "[Parallel(n_jobs=12)]: Done  26 tasks      | elapsed:    0.0s\n",
      "[Parallel(n_jobs=12)]: Done 100 out of 100 | elapsed:    0.0s finished\n"
     ]
    }
   ],
   "source": [
    "model = RandomForestRegressor(random_state=42, n_jobs=-1, verbose=1)\n",
    "model.fit(X_kia_train, y_kia_train)\n",
    "y_bmw_pred = model.predict(X_kia_test)"
   ]
  },
  {
   "cell_type": "code",
   "execution_count": 34,
   "metadata": {
    "id": "GQS__3s3SUzB",
    "outputId": "2bd0fd19-0276-47ce-c607-ee5820323a20",
    "scrolled": true
   },
   "outputs": [
    {
     "data": {
      "text/plain": [
       "MSE     7.719254e+10\n",
       "MAE     1.690767e+05\n",
       "MAPE    9.149052e-02\n",
       "RMSE    2.778355e+05\n",
       "R2      9.515852e-01\n",
       "dtype: float64"
      ]
     },
     "execution_count": 34,
     "metadata": {},
     "output_type": "execute_result"
    }
   ],
   "source": [
    "stats(y_bmw_pred, y_kia_test, log=True)"
   ]
  },
  {
   "cell_type": "code",
   "execution_count": 35,
   "metadata": {},
   "outputs": [
    {
     "data": {
      "text/plain": [
       "<Axes: >"
      ]
     },
     "execution_count": 35,
     "metadata": {},
     "output_type": "execute_result"
    },
    {
     "data": {
      "image/png": "[encoded data removed]",
      "text/plain": [
       "<Figure size 1000x1000 with 1 Axes>"
      ]
     },
     "metadata": {},
     "output_type": "display_data"
    }
   ],
   "source": [
    "plt.rcParams['figure.figsize'] = (10,10)\n",
    "feat_importances = pd.Series(model.feature_importances_, index=X_train.columns)\n",
    "feat_importances.nlargest(15).plot(kind='barh')"
   ]
  },
  {
   "cell_type": "markdown",
   "metadata": {},
   "source": [
    "R^2 if standard Random forest been trained on filtered dataset on one brand increases by 10% points. MAPE also improves. Maybe better to have several models for each brand? For now let's concentrate on one model or stacking"
   ]
  },
  {
   "cell_type": "markdown",
   "metadata": {
    "id": "XN9fxjCOSUzB"
   },
   "source": [
    "# Different models"
   ]
  },
  {
   "cell_type": "markdown",
   "metadata": {
    "id": "dLCf-yPQSUzB"
   },
   "source": [
    "## Extra Trees Regressor"
   ]
  },
  {
   "cell_type": "code",
   "execution_count": null,
   "metadata": {},
   "outputs": [],
   "source": [
    "#Import\n",
    "#etr = load(\"etr.joblib\")"
   ]
  },
  {
   "cell_type": "code",
   "execution_count": 36,
   "metadata": {
    "id": "8X-FZ5AKSUzC",
    "outputId": "b9a23796-6781-427c-f250-8395033d29f4"
   },
   "outputs": [
    {
     "name": "stderr",
     "output_type": "stream",
     "text": [
      "[Parallel(n_jobs=-1)]: Using backend ThreadingBackend with 12 concurrent workers.\n",
      "[Parallel(n_jobs=-1)]: Done  26 tasks      | elapsed:  1.1min\n",
      "[Parallel(n_jobs=-1)]: Done 100 out of 100 | elapsed:  3.2min finished\n",
      "[Parallel(n_jobs=12)]: Using backend ThreadingBackend with 12 concurrent workers.\n",
      "[Parallel(n_jobs=12)]: Done  26 tasks      | elapsed:    0.2s\n",
      "[Parallel(n_jobs=12)]: Done 100 out of 100 | elapsed:    0.7s finished\n"
     ]
    }
   ],
   "source": [
    "etr = ExtraTreesRegressor(random_state=42, n_jobs=-1, verbose=1)\n",
    "etr.fit(X_train, y_train)\n",
    "y_pred = etr.predict(X_test)"
   ]
  },
  {
   "cell_type": "code",
   "execution_count": null,
   "metadata": {},
   "outputs": [],
   "source": [
    "#Saving\n",
    "#dump(etr, \"etr.joblib\")"
   ]
  },
  {
   "cell_type": "code",
   "execution_count": 37,
   "metadata": {
    "id": "bUHJOEysSUzC",
    "outputId": "eb6816b3-b632-423e-9678-10d27754229d"
   },
   "outputs": [
    {
     "data": {
      "text/plain": [
       "MSE     1.424359e+12\n",
       "MAE     2.392934e+05\n",
       "MAPE    1.037753e-01\n",
       "RMSE    1.193465e+06\n",
       "R2      8.690958e-01\n",
       "dtype: float64"
      ]
     },
     "execution_count": 37,
     "metadata": {},
     "output_type": "execute_result"
    }
   ],
   "source": [
    "stats(y_pred, y_test, log=True)"
   ]
  },
  {
   "cell_type": "markdown",
   "metadata": {},
   "source": [
    "This model is almost the same as baseline. MAPE decreases by 0.0032% ceteris paribus."
   ]
  },
  {
   "cell_type": "markdown",
   "metadata": {
    "id": "XWrgtf2PSUzC"
   },
   "source": [
    "## Grasdient Boosting"
   ]
  },
  {
   "cell_type": "code",
   "execution_count": 38,
   "metadata": {
    "id": "yfgroUh9SUzC"
   },
   "outputs": [],
   "source": [
    "from sklearn.ensemble import GradientBoostingRegressor"
   ]
  },
  {
   "cell_type": "code",
   "execution_count": null,
   "metadata": {},
   "outputs": [],
   "source": [
    "#Import\n",
    "#gbr = load(\"gbr.joblib\")"
   ]
  },
  {
   "cell_type": "code",
   "execution_count": 39,
   "metadata": {
    "id": "MXoMUXxwSUzC",
    "outputId": "340e4374-7406-481b-fa6f-a56840f52a0e"
   },
   "outputs": [
    {
     "name": "stdout",
     "output_type": "stream",
     "text": [
      "      Iter       Train Loss   Remaining Time \n",
      "         1           0.7057            8.28m\n",
      "         2           0.6066            8.29m\n",
      "         3           0.5255            8.28m\n",
      "         4           0.4583            8.25m\n",
      "         5           0.4033            8.21m\n",
      "         6           0.3565            8.18m\n",
      "         7           0.3165            8.14m\n",
      "         8           0.2837            8.10m\n",
      "         9           0.2553            8.06m\n",
      "        10           0.2326            8.02m\n",
      "        20           0.1218            7.68m\n",
      "        30           0.0893            7.36m\n",
      "        40           0.0756            7.00m\n",
      "        50           0.0682            6.60m\n",
      "        60           0.0637            6.24m\n",
      "        70           0.0607            5.89m\n",
      "        80           0.0587            5.52m\n",
      "        90           0.0569            5.17m\n",
      "       100           0.0558            4.82m\n",
      "       200           0.0482            1.57m\n"
     ]
    }
   ],
   "source": [
    "gbr = GradientBoostingRegressor(n_estimators=250, verbose=1)\n",
    "gbr.fit(X_train, y_train)\n",
    "y_pred = gbr.predict(X_test)"
   ]
  },
  {
   "cell_type": "code",
   "execution_count": null,
   "metadata": {},
   "outputs": [],
   "source": [
    "#Save\n",
    "#dump(gbr, \"gbr.joblib\")"
   ]
  },
  {
   "cell_type": "code",
   "execution_count": 40,
   "metadata": {
    "id": "9S0nuGWbSUzC",
    "outputId": "33a8d8cb-48de-4794-f11e-454a02157240"
   },
   "outputs": [
    {
     "data": {
      "text/plain": [
       "MSE     1.963091e+12\n",
       "MAE     4.237007e+05\n",
       "MAPE    1.626764e-01\n",
       "RMSE    1.401104e+06\n",
       "R2      8.030813e-01\n",
       "dtype: float64"
      ]
     },
     "execution_count": 40,
     "metadata": {},
     "output_type": "execute_result"
    }
   ],
   "source": [
    "stats(y_pred, y_test, log=True)"
   ]
  },
  {
   "cell_type": "markdown",
   "metadata": {},
   "source": [
    "Gradient Boosting here is worse then Random Forest or ExtraTrees"
   ]
  },
  {
   "cell_type": "markdown",
   "metadata": {
    "id": "mk04zfqCSUzC"
   },
   "source": [
    "## Bagging on Random Forest"
   ]
  },
  {
   "cell_type": "code",
   "execution_count": 41,
   "metadata": {
    "id": "IDLi5zhESUzC"
   },
   "outputs": [],
   "source": [
    "from sklearn.ensemble import BaggingRegressor"
   ]
  },
  {
   "cell_type": "code",
   "execution_count": 42,
   "metadata": {
    "id": "51Pd11MfSUzC"
   },
   "outputs": [],
   "source": [
    "model = RandomForestRegressor(random_state=42, n_jobs=-1, verbose=1)"
   ]
  },
  {
   "cell_type": "code",
   "execution_count": 43,
   "metadata": {
    "id": "yK4cjl7HSUzD",
    "outputId": "85877d93-0cbf-46a6-86d6-d188e991c5b2"
   },
   "outputs": [
    {
     "name": "stderr",
     "output_type": "stream",
     "text": [
      "[Parallel(n_jobs=3)]: Using backend LokyBackend with 3 concurrent workers.\n",
      "[Parallel(n_jobs=3)]: Done   3 out of   3 | elapsed:  3.1min finished\n",
      "[Parallel(n_jobs=3)]: Using backend LokyBackend with 3 concurrent workers.\n",
      "[Parallel(n_jobs=3)]: Done   3 out of   3 | elapsed:    6.1s finished\n"
     ]
    }
   ],
   "source": [
    "bgr = BaggingRegressor(model, n_estimators=3, n_jobs=-1, random_state=42, verbose=1)\n",
    "bgr.fit(X_train, y_train)\n",
    "y_pred = bgr.predict(X_test)"
   ]
  },
  {
   "cell_type": "code",
   "execution_count": 44,
   "metadata": {
    "id": "HrHcg5h4SUzD",
    "outputId": "f6d77e75-2580-4071-b37f-49bf7e171525"
   },
   "outputs": [
    {
     "data": {
      "text/plain": [
       "MSE     1.424734e+12\n",
       "MAE     2.573758e+05\n",
       "MAPE    1.090285e-01\n",
       "RMSE    1.193622e+06\n",
       "R2      8.651347e-01\n",
       "dtype: float64"
      ]
     },
     "execution_count": 44,
     "metadata": {},
     "output_type": "execute_result"
    }
   ],
   "source": [
    "stats(y_pred, y_test, log=True)"
   ]
  },
  {
   "cell_type": "code",
   "execution_count": null,
   "metadata": {
    "id": "Sy7CVkZ8SUzD"
   },
   "outputs": [],
   "source": []
  },
  {
   "cell_type": "markdown",
   "metadata": {
    "id": "58_Q9HvySUzD"
   },
   "source": [
    "## Stacking - Random Forest Regressor and Bagging on Extra Trees"
   ]
  },
  {
   "cell_type": "code",
   "execution_count": 45,
   "metadata": {
    "id": "vg-VJaMnSUzD"
   },
   "outputs": [],
   "source": [
    "from tqdm import tqdm"
   ]
  },
  {
   "cell_type": "code",
   "execution_count": null,
   "metadata": {},
   "outputs": [],
   "source": [
    "#Import\n",
    "#models = [load(\"stacking1_rfr.joblib\"), load(\"stacking1_bag75.joblib\")]"
   ]
  },
  {
   "cell_type": "code",
   "execution_count": 46,
   "metadata": {
    "id": "JnLFBVe_SUzD",
    "outputId": "805d4cf1-4295-4ef5-c246-f68ac2a0fe89"
   },
   "outputs": [
    {
     "name": "stderr",
     "output_type": "stream",
     "text": [
      "[Parallel(n_jobs=-1)]: Using backend ThreadingBackend with 12 concurrent workers.                | 0/2 [00:00<?, ?it/s]\n",
      "[Parallel(n_jobs=-1)]: Done  26 tasks      | elapsed:   31.0s\n",
      "[Parallel(n_jobs=-1)]: Done 100 out of 100 | elapsed:  1.5min finished\n",
      "[Parallel(n_jobs=12)]: Using backend ThreadingBackend with 12 concurrent workers.\n",
      "[Parallel(n_jobs=12)]: Done  26 tasks      | elapsed:    0.1s\n",
      "[Parallel(n_jobs=12)]: Done 100 out of 100 | elapsed:    0.6s finished\n",
      "[Parallel(n_jobs=10)]: Using backend LokyBackend with 10 concurrent workers.             | 1/2 [01:31<01:31, 91.73s/it]\n",
      "[Parallel(n_jobs=10)]: Done   2 out of  10 | elapsed: 17.1min remaining: 68.5min\n",
      "[Parallel(n_jobs=10)]: Done  10 out of  10 | elapsed: 17.5min finished\n",
      "[Parallel(n_jobs=10)]: Using backend LokyBackend with 10 concurrent workers.\n",
      "[Parallel(n_jobs=10)]: Done   2 out of  10 | elapsed:   10.4s remaining:   41.8s\n",
      "[Parallel(n_jobs=10)]: Done  10 out of  10 | elapsed:   21.5s finished\n",
      "100%|███████████████████████████████████████████████████████████████████████████████████| 2/2 [19:22<00:00, 581.39s/it]\n"
     ]
    }
   ],
   "source": [
    "models = [RandomForestRegressor(random_state=42, n_jobs=-1, verbose=1),\n",
    "         BaggingRegressor(ExtraTreesRegressor(n_estimators=75, random_state=42, verbose=1), random_state=42, n_jobs=-2, verbose=1)]\n",
    "\n",
    "def stacking_model_predict(d_models, d_X_train, d_y_train, d_X_test):\n",
    "    d_df = pd.DataFrame()\n",
    "    for model_ in tqdm(d_models):\n",
    "        model_.fit(d_X_train, d_y_train)\n",
    "        y_pred = model_.predict(d_X_test)\n",
    "        d_df[str(model_)[:6]] = y_pred\n",
    "    return d_df\n",
    "\n",
    "tmp_df =  stacking_model_predict(models, X_train, y_train, X_test)\n",
    "tmp_df[\"y_pred\"] = tmp_df.mean(axis=1)"
   ]
  },
  {
   "cell_type": "code",
   "execution_count": null,
   "metadata": {},
   "outputs": [],
   "source": [
    "#Save\n",
    "#dump(models[0], \"stacking1_rfr.joblib\")\n",
    "#dump(models[1], \"stacking1_bag75.joblib\")"
   ]
  },
  {
   "cell_type": "code",
   "execution_count": 47,
   "metadata": {
    "id": "7nXRfBvtSUzD",
    "outputId": "bdee68db-f648-43d7-db00-8e83879fcce6"
   },
   "outputs": [
    {
     "data": {
      "text/html": [
       "<div>\n",
       "<style scoped>\n",
       "    .dataframe tbody tr th:only-of-type {\n",
       "        vertical-align: middle;\n",
       "    }\n",
       "\n",
       "    .dataframe tbody tr th {\n",
       "        vertical-align: top;\n",
       "    }\n",
       "\n",
       "    .dataframe thead th {\n",
       "        text-align: right;\n",
       "    }\n",
       "</style>\n",
       "<table border=\"1\" class=\"dataframe\">\n",
       "  <thead>\n",
       "    <tr style=\"text-align: right;\">\n",
       "      <th></th>\n",
       "      <th>Random</th>\n",
       "      <th>Baggin</th>\n",
       "      <th>y_pred</th>\n",
       "    </tr>\n",
       "  </thead>\n",
       "  <tbody>\n",
       "    <tr>\n",
       "      <th>0</th>\n",
       "      <td>15.767702</td>\n",
       "      <td>15.928846</td>\n",
       "      <td>15.848274</td>\n",
       "    </tr>\n",
       "    <tr>\n",
       "      <th>1</th>\n",
       "      <td>13.160859</td>\n",
       "      <td>13.191644</td>\n",
       "      <td>13.176252</td>\n",
       "    </tr>\n",
       "    <tr>\n",
       "      <th>2</th>\n",
       "      <td>14.308945</td>\n",
       "      <td>14.298496</td>\n",
       "      <td>14.303721</td>\n",
       "    </tr>\n",
       "    <tr>\n",
       "      <th>3</th>\n",
       "      <td>13.159441</td>\n",
       "      <td>13.217542</td>\n",
       "      <td>13.188491</td>\n",
       "    </tr>\n",
       "    <tr>\n",
       "      <th>4</th>\n",
       "      <td>12.059945</td>\n",
       "      <td>12.013872</td>\n",
       "      <td>12.036908</td>\n",
       "    </tr>\n",
       "  </tbody>\n",
       "</table>\n",
       "</div>"
      ],
      "text/plain": [
       "      Random     Baggin     y_pred\n",
       "0  15.767702  15.928846  15.848274\n",
       "1  13.160859  13.191644  13.176252\n",
       "2  14.308945  14.298496  14.303721\n",
       "3  13.159441  13.217542  13.188491\n",
       "4  12.059945  12.013872  12.036908"
      ]
     },
     "execution_count": 47,
     "metadata": {},
     "output_type": "execute_result"
    }
   ],
   "source": [
    "tmp_df.head()"
   ]
  },
  {
   "cell_type": "code",
   "execution_count": 48,
   "metadata": {
    "id": "xVJhBxO-SUzD",
    "outputId": "f9561a16-5e2d-45d5-ce69-c90e082928e1"
   },
   "outputs": [
    {
     "data": {
      "text/plain": [
       "MSE     1.377345e+12\n",
       "MAE     2.396915e+05\n",
       "MAPE    1.029857e-01\n",
       "RMSE    1.173603e+06\n",
       "R2      8.708571e-01\n",
       "dtype: float64"
      ]
     },
     "execution_count": 48,
     "metadata": {},
     "output_type": "execute_result"
    }
   ],
   "source": [
    "stats(tmp_df[\"y_pred\"], y_test, log=True)"
   ]
  },
  {
   "cell_type": "code",
   "execution_count": 49,
   "metadata": {
    "id": "N3jzV7xASUzD",
    "outputId": "d88ebada-0980-4fd2-d920-a39883c10d47"
   },
   "outputs": [
    {
     "data": {
      "text/plain": [
       "MSE     1.401275e+12\n",
       "MAE     2.511726e+05\n",
       "MAPE    1.070229e-01\n",
       "RMSE    1.183755e+06\n",
       "R2      8.693905e-01\n",
       "dtype: float64"
      ]
     },
     "execution_count": 49,
     "metadata": {},
     "output_type": "execute_result"
    }
   ],
   "source": [
    "stats(tmp_df[\"Random\"], y_test, log=True)"
   ]
  },
  {
   "cell_type": "code",
   "execution_count": 50,
   "metadata": {
    "id": "UTlhmbZFSUzE",
    "outputId": "70e1c9d7-f04a-4a05-b295-8b2624e1a5b9"
   },
   "outputs": [
    {
     "data": {
      "text/plain": [
       "MSE     1.387106e+12\n",
       "MAE     2.385746e+05\n",
       "MAPE    1.032936e-01\n",
       "RMSE    1.177755e+06\n",
       "R2      8.699096e-01\n",
       "dtype: float64"
      ]
     },
     "execution_count": 50,
     "metadata": {},
     "output_type": "execute_result"
    }
   ],
   "source": [
    "stats(tmp_df[\"Baggin\"], y_test, log=True)"
   ]
  },
  {
   "cell_type": "code",
   "execution_count": null,
   "metadata": {},
   "outputs": [],
   "source": [
    "#Import\n",
    "#models = [load(\"stacking1_rfr1.joblib\"), load(\"stacking1_bag1.joblib\")]"
   ]
  },
  {
   "cell_type": "code",
   "execution_count": 53,
   "metadata": {
    "id": "nAtWetJpSUzE",
    "outputId": "ab3d4fb1-b329-4903-9284-01ee7565c6e9",
    "scrolled": true
   },
   "outputs": [
    {
     "name": "stderr",
     "output_type": "stream",
     "text": [
      "[Parallel(n_jobs=-1)]: Using backend ThreadingBackend with 12 concurrent workers.                | 0/2 [00:00<?, ?it/s]\n",
      "[Parallel(n_jobs=-1)]: Done  26 tasks      | elapsed:   30.8s\n",
      "[Parallel(n_jobs=-1)]: Done 100 out of 100 | elapsed:  1.5min finished\n",
      "[Parallel(n_jobs=12)]: Using backend ThreadingBackend with 12 concurrent workers.\n",
      "[Parallel(n_jobs=12)]: Done  26 tasks      | elapsed:    0.1s\n",
      "[Parallel(n_jobs=12)]: Done 100 out of 100 | elapsed:    0.6s finished\n",
      "[Parallel(n_jobs=9)]: Using backend LokyBackend with 9 concurrent workers.               | 1/2 [01:32<01:32, 92.69s/it]\n",
      "[Parallel(n_jobs=9)]: Done   2 out of   9 | elapsed: 20.9min remaining: 73.2min\n",
      "[Parallel(n_jobs=9)]: Done   9 out of   9 | elapsed: 33.0min finished\n",
      "[Parallel(n_jobs=9)]: Using backend LokyBackend with 9 concurrent workers.\n",
      "[Parallel(n_jobs=9)]: Done   2 out of   9 | elapsed:   22.3s remaining:  1.3min\n",
      "[Parallel(n_jobs=9)]: Done   9 out of   9 | elapsed:   45.9s finished\n",
      "100%|██████████████████████████████████████████████████████████████████████████████████| 2/2 [35:17<00:00, 1058.92s/it]\n"
     ]
    }
   ],
   "source": [
    "models = [RandomForestRegressor(random_state=42, n_jobs=-1, verbose=1),\n",
    "         BaggingRegressor(ExtraTreesRegressor(random_state=42, verbose=1), random_state=42, verbose=1, n_jobs=-4)]\n",
    "\n",
    "def stacking_model_predict(d_models, d_X_train, d_y_train, d_X_test):\n",
    "    d_df = pd.DataFrame()\n",
    "    for model_ in tqdm(d_models):\n",
    "        model_.fit(d_X_train, d_y_train)\n",
    "        y_pred = model_.predict(d_X_test)\n",
    "        d_df[str(model_)[:6]] = y_pred\n",
    "    return d_df\n",
    "\n",
    "tmp_df1 =  stacking_model_predict(models, X_train, y_train, X_test)\n",
    "tmp_df1[\"y_pred\"] = tmp_df1.mean(axis=1)"
   ]
  },
  {
   "cell_type": "code",
   "execution_count": 128,
   "metadata": {},
   "outputs": [
    {
     "data": {
      "text/plain": [
       "['stacking1_bag1.joblib']"
      ]
     },
     "execution_count": 128,
     "metadata": {},
     "output_type": "execute_result"
    }
   ],
   "source": [
    "#Save\n",
    "dump(models[0], \"stacking1_rfr1.joblib\")\n",
    "dump(models[1], \"stacking1_bag1.joblib\")"
   ]
  },
  {
   "cell_type": "code",
   "execution_count": 58,
   "metadata": {
    "id": "5w56ZGabSUzE",
    "outputId": "9050a7d7-2f24-465b-f840-d2095520689e",
    "scrolled": true
   },
   "outputs": [
    {
     "data": {
      "text/plain": [
       "MSE     1.377912e+12\n",
       "MAE     2.397031e+05\n",
       "MAPE    1.029911e-01\n",
       "RMSE    1.173845e+06\n",
       "R2      8.708000e-01\n",
       "dtype: float64"
      ]
     },
     "execution_count": 58,
     "metadata": {},
     "output_type": "execute_result"
    }
   ],
   "source": [
    "stats(tmp_df1[\"y_pred\"], y_test, log=True)"
   ]
  },
  {
   "cell_type": "code",
   "execution_count": 59,
   "metadata": {
    "id": "R9EILAGjSUzE",
    "outputId": "9cf7ee01-6516-4772-9c69-045a8b18fcf5"
   },
   "outputs": [
    {
     "data": {
      "text/plain": [
       "MSE     1.377912e+12\n",
       "MAE     2.397031e+05\n",
       "MAPE    1.029911e-01\n",
       "RMSE    1.173845e+06\n",
       "R2      8.708000e-01\n",
       "dtype: float64"
      ]
     },
     "execution_count": 59,
     "metadata": {},
     "output_type": "execute_result"
    }
   ],
   "source": [
    "stats(tmp_df1[\"y_pred\"], y_test, log=True, rounded=100)"
   ]
  },
  {
   "cell_type": "code",
   "execution_count": 63,
   "metadata": {
    "id": "9fM4XUxCSUzE",
    "outputId": "5065e8ee-d7e9-4276-b7a3-9daf540d761b"
   },
   "outputs": [
    {
     "data": {
      "text/plain": [
       "MSE     1.377943e+12\n",
       "MAE     2.397718e+05\n",
       "MAPE    1.030084e-01\n",
       "RMSE    1.173858e+06\n",
       "R2      8.707962e-01\n",
       "dtype: float64"
      ]
     },
     "execution_count": 63,
     "metadata": {},
     "output_type": "execute_result"
    }
   ],
   "source": [
    "stats(tmp_df1[\"y_pred\"], y_test, log=True, rounded=100_000)"
   ]
  },
  {
   "cell_type": "markdown",
   "metadata": {},
   "source": [
    "# Where does model make mistakes?"
   ]
  },
  {
   "cell_type": "code",
   "execution_count": 64,
   "metadata": {
    "id": "EXxXzinTSUzE"
   },
   "outputs": [],
   "source": [
    "y_pred = tmp_df[\"y_pred\"]"
   ]
  },
  {
   "cell_type": "code",
   "execution_count": 65,
   "metadata": {
    "id": "C1E8UgUUSUzE"
   },
   "outputs": [],
   "source": [
    "df_test = X_test.copy()"
   ]
  },
  {
   "cell_type": "code",
   "execution_count": 66,
   "metadata": {
    "id": "vjaUNzfgSUzE",
    "outputId": "0b3c73ae-b430-454c-ab84-18a2dfffff1c"
   },
   "outputs": [
    {
     "data": {
      "text/html": [
       "<div>\n",
       "<style scoped>\n",
       "    .dataframe tbody tr th:only-of-type {\n",
       "        vertical-align: middle;\n",
       "    }\n",
       "\n",
       "    .dataframe tbody tr th {\n",
       "        vertical-align: top;\n",
       "    }\n",
       "\n",
       "    .dataframe thead th {\n",
       "        text-align: right;\n",
       "    }\n",
       "</style>\n",
       "<table border=\"1\" class=\"dataframe\">\n",
       "  <thead>\n",
       "    <tr style=\"text-align: right;\">\n",
       "      <th></th>\n",
       "      <th>engine_v</th>\n",
       "      <th>engine_power</th>\n",
       "      <th>km</th>\n",
       "      <th>year</th>\n",
       "      <th>salon</th>\n",
       "      <th>on order</th>\n",
       "      <th>verified dealler</th>\n",
       "      <th>population</th>\n",
       "      <th>История авто бесплатно</th>\n",
       "      <th>Без пробега по РФ</th>\n",
       "      <th>...</th>\n",
       "      <th>region:Хабаровский край</th>\n",
       "      <th>region:Хакасия</th>\n",
       "      <th>region:Ханты-Мансийский автономный округ — Югра</th>\n",
       "      <th>region:Челябинская область</th>\n",
       "      <th>region:Чувашская Республика</th>\n",
       "      <th>region:Ямало-Ненецкий автономный округ</th>\n",
       "      <th>region:Ярославская область</th>\n",
       "      <th>y_test</th>\n",
       "      <th>y_pred</th>\n",
       "      <th>MAPE</th>\n",
       "    </tr>\n",
       "  </thead>\n",
       "  <tbody>\n",
       "    <tr>\n",
       "      <th>357434</th>\n",
       "      <td>3.0</td>\n",
       "      <td>340.0</td>\n",
       "      <td>3.258097</td>\n",
       "      <td>2022</td>\n",
       "      <td>0</td>\n",
       "      <td>1</td>\n",
       "      <td>0</td>\n",
       "      <td>615570.0</td>\n",
       "      <td>0</td>\n",
       "      <td>0</td>\n",
       "      <td>...</td>\n",
       "      <td>1</td>\n",
       "      <td>0</td>\n",
       "      <td>0</td>\n",
       "      <td>0</td>\n",
       "      <td>0</td>\n",
       "      <td>0</td>\n",
       "      <td>0</td>\n",
       "      <td>7649999</td>\n",
       "      <td>7635155</td>\n",
       "      <td>0.194</td>\n",
       "    </tr>\n",
       "    <tr>\n",
       "      <th>63339</th>\n",
       "      <td>1.6</td>\n",
       "      <td>115.0</td>\n",
       "      <td>12.180760</td>\n",
       "      <td>2008</td>\n",
       "      <td>0</td>\n",
       "      <td>0</td>\n",
       "      <td>0</td>\n",
       "      <td>30194.0</td>\n",
       "      <td>1</td>\n",
       "      <td>0</td>\n",
       "      <td>...</td>\n",
       "      <td>0</td>\n",
       "      <td>0</td>\n",
       "      <td>0</td>\n",
       "      <td>0</td>\n",
       "      <td>0</td>\n",
       "      <td>0</td>\n",
       "      <td>0</td>\n",
       "      <td>449999</td>\n",
       "      <td>527682</td>\n",
       "      <td>17.263</td>\n",
       "    </tr>\n",
       "    <tr>\n",
       "      <th>170243</th>\n",
       "      <td>1.6</td>\n",
       "      <td>204.0</td>\n",
       "      <td>10.425283</td>\n",
       "      <td>2021</td>\n",
       "      <td>0</td>\n",
       "      <td>1</td>\n",
       "      <td>0</td>\n",
       "      <td>591628.0</td>\n",
       "      <td>0</td>\n",
       "      <td>0</td>\n",
       "      <td>...</td>\n",
       "      <td>0</td>\n",
       "      <td>0</td>\n",
       "      <td>0</td>\n",
       "      <td>0</td>\n",
       "      <td>0</td>\n",
       "      <td>0</td>\n",
       "      <td>0</td>\n",
       "      <td>1550000</td>\n",
       "      <td>1629396</td>\n",
       "      <td>5.122</td>\n",
       "    </tr>\n",
       "    <tr>\n",
       "      <th>345729</th>\n",
       "      <td>1.8</td>\n",
       "      <td>170.0</td>\n",
       "      <td>12.728259</td>\n",
       "      <td>2001</td>\n",
       "      <td>0</td>\n",
       "      <td>0</td>\n",
       "      <td>0</td>\n",
       "      <td>1536183.0</td>\n",
       "      <td>1</td>\n",
       "      <td>0</td>\n",
       "      <td>...</td>\n",
       "      <td>0</td>\n",
       "      <td>0</td>\n",
       "      <td>0</td>\n",
       "      <td>0</td>\n",
       "      <td>0</td>\n",
       "      <td>0</td>\n",
       "      <td>0</td>\n",
       "      <td>405000</td>\n",
       "      <td>534180</td>\n",
       "      <td>31.896</td>\n",
       "    </tr>\n",
       "    <tr>\n",
       "      <th>214972</th>\n",
       "      <td>1.8</td>\n",
       "      <td>88.0</td>\n",
       "      <td>12.765691</td>\n",
       "      <td>1987</td>\n",
       "      <td>0</td>\n",
       "      <td>0</td>\n",
       "      <td>0</td>\n",
       "      <td>13149803.0</td>\n",
       "      <td>1</td>\n",
       "      <td>0</td>\n",
       "      <td>...</td>\n",
       "      <td>0</td>\n",
       "      <td>0</td>\n",
       "      <td>0</td>\n",
       "      <td>0</td>\n",
       "      <td>0</td>\n",
       "      <td>0</td>\n",
       "      <td>0</td>\n",
       "      <td>170000</td>\n",
       "      <td>168873</td>\n",
       "      <td>0.663</td>\n",
       "    </tr>\n",
       "  </tbody>\n",
       "</table>\n",
       "<p>5 rows × 975 columns</p>\n",
       "</div>"
      ],
      "text/plain": [
       "        engine_v  engine_power         km  year  salon  on order  \\\n",
       "357434       3.0         340.0   3.258097  2022      0         1   \n",
       "63339        1.6         115.0  12.180760  2008      0         0   \n",
       "170243       1.6         204.0  10.425283  2021      0         1   \n",
       "345729       1.8         170.0  12.728259  2001      0         0   \n",
       "214972       1.8          88.0  12.765691  1987      0         0   \n",
       "\n",
       "        verified dealler  population  История авто бесплатно  \\\n",
       "357434                 0    615570.0                       0   \n",
       "63339                  0     30194.0                       1   \n",
       "170243                 0    591628.0                       0   \n",
       "345729                 0   1536183.0                       1   \n",
       "214972                 0  13149803.0                       1   \n",
       "\n",
       "        Без пробега по РФ  ...  region:Хабаровский край  region:Хакасия  \\\n",
       "357434                  0  ...                        1               0   \n",
       "63339                   0  ...                        0               0   \n",
       "170243                  0  ...                        0               0   \n",
       "345729                  0  ...                        0               0   \n",
       "214972                  0  ...                        0               0   \n",
       "\n",
       "        region:Ханты-Мансийский автономный округ — Югра  \\\n",
       "357434                                                0   \n",
       "63339                                                 0   \n",
       "170243                                                0   \n",
       "345729                                                0   \n",
       "214972                                                0   \n",
       "\n",
       "        region:Челябинская область  region:Чувашская Республика  \\\n",
       "357434                           0                            0   \n",
       "63339                            0                            0   \n",
       "170243                           0                            0   \n",
       "345729                           0                            0   \n",
       "214972                           0                            0   \n",
       "\n",
       "        region:Ямало-Ненецкий автономный округ  region:Ярославская область  \\\n",
       "357434                                       0                           0   \n",
       "63339                                        0                           0   \n",
       "170243                                       0                           0   \n",
       "345729                                       0                           0   \n",
       "214972                                       0                           0   \n",
       "\n",
       "         y_test   y_pred    MAPE  \n",
       "357434  7649999  7635155   0.194  \n",
       "63339    449999   527682  17.263  \n",
       "170243  1550000  1629396   5.122  \n",
       "345729   405000   534180  31.896  \n",
       "214972   170000   168873   0.663  \n",
       "\n",
       "[5 rows x 975 columns]"
      ]
     },
     "execution_count": 66,
     "metadata": {},
     "output_type": "execute_result"
    }
   ],
   "source": [
    "df_test[\"y_test\"] = np.expm1(y_test).astype(np.int64)\n",
    "df_test[\"y_pred\"] = np.expm1(np.array(tmp_df[\"y_pred\"])).astype(np.int64)\n",
    "df_test[\"MAPE\"] = np.round(np.abs((df_test[\"y_test\"] - df_test[\"y_pred\"])/df_test[\"y_test\"])*100, 3)\n",
    "df_test.head()"
   ]
  },
  {
   "cell_type": "code",
   "execution_count": 67,
   "metadata": {
    "id": "6eZZK3NqSUzE",
    "outputId": "caee466f-390e-47da-afc0-b5d0be36cafc"
   },
   "outputs": [
    {
     "data": {
      "text/plain": [
       "count    113355.000000\n",
       "mean         10.104506\n",
       "std          15.333725\n",
       "min           0.000000\n",
       "25%           2.099000\n",
       "50%           6.198000\n",
       "75%          13.168500\n",
       "max        1871.958000\n",
       "Name: MAPE, dtype: float64"
      ]
     },
     "execution_count": 67,
     "metadata": {},
     "output_type": "execute_result"
    }
   ],
   "source": [
    "df_test[\"MAPE\"].describe()"
   ]
  },
  {
   "cell_type": "code",
   "execution_count": 70,
   "metadata": {
    "id": "JpJ35qfVSUzE",
    "outputId": "4487818a-4b53-4c74-d9ae-652189223108"
   },
   "outputs": [
    {
     "data": {
      "text/plain": [
       "<Axes: xlabel='MAPE', ylabel='Count'>"
      ]
     },
     "execution_count": 70,
     "metadata": {},
     "output_type": "execute_result"
    },
    {
     "data": {
      "image/png": "[encoded data removed]",
      "text/plain": [
       "<Figure size 1000x1000 with 1 Axes>"
      ]
     },
     "metadata": {},
     "output_type": "display_data"
    }
   ],
   "source": [
    "sns.histplot(df_test[\"MAPE\"])"
   ]
  },
  {
   "cell_type": "code",
   "execution_count": 123,
   "metadata": {
    "id": "4lsCjbjQSUzE",
    "outputId": "041d5967-75c7-4de7-da92-e3f3ec1af943"
   },
   "outputs": [
    {
     "data": {
      "text/plain": [
       "<Axes: xlabel='y_test', ylabel='MAPE'>"
      ]
     },
     "execution_count": 123,
     "metadata": {},
     "output_type": "execute_result"
    },
    {
     "data": {
      "image/png": "[encoded data removed]",
      "text/plain": [
       "<Figure size 1000x1000 with 1 Axes>"
      ]
     },
     "metadata": {},
     "output_type": "display_data"
    }
   ],
   "source": [
    "sns.scatterplot(data=df_test, x=\"y_test\", y=\"MAPE\")"
   ]
  },
  {
   "cell_type": "code",
   "execution_count": 88,
   "metadata": {},
   "outputs": [
    {
     "data": {
      "text/plain": [
       "0.28"
      ]
     },
     "execution_count": 88,
     "metadata": {},
     "output_type": "execute_result"
    }
   ],
   "source": [
    "round(df_test[df_test[\"MAPE\"] >= 100].shape[0]/df_test.shape[0]*100, 2)"
   ]
  },
  {
   "cell_type": "code",
   "execution_count": 1,
   "metadata": {},
   "outputs": [
    {
     "ename": "NameError",
     "evalue": "name 'df_test' is not defined",
     "output_type": "error",
     "traceback": [
      "\u001b[1;31m---------------------------------------------------------------------------\u001b[0m",
      "\u001b[1;31mNameError\u001b[0m                                 Traceback (most recent call last)",
      "Cell \u001b[1;32mIn[1], line 1\u001b[0m\n\u001b[1;32m----> 1\u001b[0m \u001b[43mdf_test\u001b[49m[df_test[\u001b[38;5;124m\"\u001b[39m\u001b[38;5;124mMAPE\u001b[39m\u001b[38;5;124m\"\u001b[39m] \u001b[38;5;241m>\u001b[39m\u001b[38;5;241m=\u001b[39m \u001b[38;5;241m100\u001b[39m]\u001b[38;5;241m.\u001b[39msort_values(by\u001b[38;5;241m=\u001b[39m\u001b[38;5;124m\"\u001b[39m\u001b[38;5;124mMAPE\u001b[39m\u001b[38;5;124m\"\u001b[39m, ascending\u001b[38;5;241m=\u001b[39m\u001b[38;5;28;01mFalse\u001b[39;00m)\u001b[38;5;241m.\u001b[39mhead(\u001b[38;5;241m10\u001b[39m)\n",
      "\u001b[1;31mNameError\u001b[0m: name 'df_test' is not defined"
     ]
    }
   ],
   "source": [
    "df_test[df_test[\"MAPE\"] >= 100].sort_values(by=\"MAPE\", ascending=False).head(10)"
   ]
  },
  {
   "cell_type": "code",
   "execution_count": 115,
   "metadata": {},
   "outputs": [
    {
     "data": {
      "text/plain": [
       "engine_v                        5.200000e+00\n",
       "engine_power                    2.110000e+02\n",
       "km                              9.903538e+00\n",
       "year                            1.996000e+03\n",
       "population                      1.314980e+07\n",
       "История авто бесплатно          1.000000e+00\n",
       "num_tags                        1.000000e+00\n",
       "rel_page                        4.814815e-01\n",
       "fuel_type:Бензин                1.000000e+00\n",
       "transmission_type:автомат       1.000000e+00\n",
       "salon_type:внедорожник 5 дв.    1.000000e+00\n",
       "wheel_drive:полный              1.000000e+00\n",
       "color:чёрный                    1.000000e+00\n",
       "model:Grand Cherokee            1.000000e+00\n",
       "brand:Jeep                      1.000000e+00\n",
       "product_country:USA             1.000000e+00\n",
       "region:Москва                   1.000000e+00\n",
       "y_test                          1.999990e+05\n",
       "y_pred                          3.943896e+06\n",
       "MAPE                            1.871958e+03\n",
       "Name: 149281, dtype: float64"
      ]
     },
     "execution_count": 115,
     "metadata": {},
     "output_type": "execute_result"
    }
   ],
   "source": [
    "print_obj(149281)"
   ]
  },
  {
   "cell_type": "code",
   "execution_count": 116,
   "metadata": {},
   "outputs": [
    {
     "data": {
      "text/plain": [
       "engine_v                     5.400000e+00\n",
       "engine_power                 3.260000e+02\n",
       "km                           1.151294e+01\n",
       "year                         1.997000e+03\n",
       "population                   1.314980e+07\n",
       "История авто бесплатно       1.000000e+00\n",
       "num_tags                     1.000000e+00\n",
       "rel_page                     4.186047e-01\n",
       "fuel_type:Бензин             1.000000e+00\n",
       "transmission_type:автомат    1.000000e+00\n",
       "salon_type:седан             1.000000e+00\n",
       "color:чёрный                 1.000000e+00\n",
       "model:7 серии                1.000000e+00\n",
       "brand:BMW                    1.000000e+00\n",
       "product_country:Germany      1.000000e+00\n",
       "region:Москва                1.000000e+00\n",
       "y_test                       2.199990e+05\n",
       "y_pred                       2.358105e+06\n",
       "MAPE                         9.718710e+02\n",
       "Name: 374737, dtype: float64"
      ]
     },
     "execution_count": 116,
     "metadata": {},
     "output_type": "execute_result"
    }
   ],
   "source": [
    "print_obj(374737)"
   ]
  },
  {
   "cell_type": "code",
   "execution_count": 117,
   "metadata": {},
   "outputs": [
    {
     "data": {
      "text/plain": [
       "engine_v                            2.000000\n",
       "engine_power                       88.000000\n",
       "km                                 10.819798\n",
       "year                             1994.000000\n",
       "population                      17985.000000\n",
       "История авто бесплатно              1.000000\n",
       "num_tags                            1.000000\n",
       "rel_page                            0.750000\n",
       "fuel_type:Дизель                    1.000000\n",
       "transmission_type:автомат           1.000000\n",
       "salon_type:компактвэн               1.000000\n",
       "wheel_drive:полный                  1.000000\n",
       "color:синий                         1.000000\n",
       "model:RVR                           1.000000\n",
       "brand:Mitsubishi                    1.000000\n",
       "product_country:Japan               1.000000\n",
       "region:Свердловская область         1.000000\n",
       "y_test                          50000.000000\n",
       "y_pred                         274709.000000\n",
       "MAPE                              449.418000\n",
       "Name: 299391, dtype: float64"
      ]
     },
     "execution_count": 117,
     "metadata": {},
     "output_type": "execute_result"
    }
   ],
   "source": [
    "print_obj(299391)"
   ]
  },
  {
   "cell_type": "code",
   "execution_count": 118,
   "metadata": {},
   "outputs": [
    {
     "data": {
      "text/plain": [
       "engine_v                           1.800000\n",
       "engine_power                     125.000000\n",
       "km                                12.936036\n",
       "year                            2002.000000\n",
       "population                    266681.000000\n",
       "История авто бесплатно             1.000000\n",
       "num_tags                           1.000000\n",
       "rel_page                           0.368421\n",
       "fuel_type:Бензин                   1.000000\n",
       "transmission_type:механика         1.000000\n",
       "salon_type:компактвэн              1.000000\n",
       "wheel_drive:передний               1.000000\n",
       "color:синий                        1.000000\n",
       "model:Zafira                       1.000000\n",
       "brand:Opel                         1.000000\n",
       "product_country:Germany            1.000000\n",
       "region:Мурманская область          1.000000\n",
       "y_test                         64999.000000\n",
       "y_pred                        375190.000000\n",
       "MAPE                             477.224000\n",
       "Name: 303208, dtype: float64"
      ]
     },
     "execution_count": 118,
     "metadata": {},
     "output_type": "execute_result"
    }
   ],
   "source": [
    "print_obj(303208)"
   ]
  },
  {
   "cell_type": "code",
   "execution_count": 119,
   "metadata": {},
   "outputs": [
    {
     "data": {
      "text/plain": [
       "engine_v                     2.400000e+00\n",
       "engine_power                 1.440000e+02\n",
       "km                           1.289922e+01\n",
       "year                         1.997000e+03\n",
       "population                   5.597763e+06\n",
       "История авто бесплатно       1.000000e+00\n",
       "num_tags                     1.000000e+00\n",
       "rel_page                     1.000000e+00\n",
       "fuel_type:Бензин             1.000000e+00\n",
       "transmission_type:автомат    1.000000e+00\n",
       "salon_type:седан             1.000000e+00\n",
       "wheel_drive:передний         1.000000e+00\n",
       "color:красный                1.000000e+00\n",
       "model:S70                    1.000000e+00\n",
       "brand:Volvo                  1.000000e+00\n",
       "region:Санкт-Петербург       1.000000e+00\n",
       "y_test                       5.999900e+04\n",
       "y_pred                       4.356020e+05\n",
       "MAPE                         6.260150e+02\n",
       "Name: 132261, dtype: float64"
      ]
     },
     "execution_count": 119,
     "metadata": {},
     "output_type": "execute_result"
    }
   ],
   "source": [
    "print_obj(132261)"
   ]
  },
  {
   "cell_type": "markdown",
   "metadata": {},
   "source": [
    "# Searching optimal hyperparametres"
   ]
  },
  {
   "cell_type": "code",
   "execution_count": null,
   "metadata": {
    "id": "ppYKE8hASUzF"
   },
   "outputs": [],
   "source": [
    "from sklearn.model_selection import RandomizedSearchCV"
   ]
  },
  {
   "cell_type": "code",
   "execution_count": null,
   "metadata": {
    "id": "cJNBugfcSUzF"
   },
   "outputs": [],
   "source": [
    "from datetime import datetime"
   ]
  },
  {
   "cell_type": "code",
   "execution_count": null,
   "metadata": {
    "id": "QL4iyj2uSUzF",
    "outputId": "446a75d3-794e-45b0-dc06-6906ba4a6326"
   },
   "outputs": [],
   "source": [
    "t1 = datetime.time.now()"
   ]
  },
  {
   "cell_type": "code",
   "execution_count": null,
   "metadata": {
    "id": "n-B29ESkSUzF",
    "outputId": "c649705b-27c3-4c4d-b9ef-01a2a9168d4f"
   },
   "outputs": [],
   "source": [
    "t1 - datetime.now()"
   ]
  },
  {
   "cell_type": "code",
   "execution_count": null,
   "metadata": {
    "id": "E4k9YY2dSUzF",
    "outputId": "a3cd817a-bb0b-426f-bb51-903ac2848eda"
   },
   "outputs": [],
   "source": [
    "np.random.seed(42)\n",
    "\n",
    "n_estimators = [int(x) for x in np.linspace(start=100, stop=1500, num=50)]\n",
    "max_features = ['sqrt']\n",
    "max_depth = [int(x) for x in np.linspace(10, 110, num=11)]\n",
    "max_depth.append(None)\n",
    "min_samples_split = [2, 5, 10]\n",
    "min_samples_leaf = [1, 2, 4]\n",
    "bootstrap = [True, False]\n",
    "random_grid = {\n",
    "    \"n_estimators\": n_estimators,\n",
    "    \"max_features\": max_features,\n",
    "    \"max_depth\": max_depth,\n",
    "    \"min_samples_split\": min_samples_split,\n",
    "    \"bootstrap\": bootstrap\n",
    "}\n",
    "\n",
    "rf = RandomForestRegressor()\n",
    "for n in range(12, 0, -1):\n",
    "    print(n)\n",
    "    t1 = datetime.now()\n",
    "    try:\n",
    "        rf_random = RandomizedSearchCV(estimator=rf, param_distributions=random_grid, cv=3, verbose=3, n_jobs=n, random_state=42)\n",
    "        rf_random.fit(X_train, y_train)\n",
    "        print(n, \" completed\")\n",
    "        break\n",
    "    except:\n",
    "        print(n, \" error\")\n",
    "        pass\n",
    "    print(t1, \"       \", datetime.now()-t1, \"       \", datetime.now())"
   ]
  },
  {
   "cell_type": "code",
   "execution_count": null,
   "metadata": {
    "id": "M4WMkdzXSUzF",
    "outputId": "0f8ccc26-b4c4-4152-d239-acbe61b9db60"
   },
   "outputs": [],
   "source": [
    "rf_random"
   ]
  },
  {
   "cell_type": "code",
   "execution_count": null,
   "metadata": {
    "id": "9TZCd9fzSUzF"
   },
   "outputs": [],
   "source": [
    "main_model = rf_random.best_estimator_"
   ]
  },
  {
   "cell_type": "code",
   "execution_count": null,
   "metadata": {
    "id": "geKOTfF8SUzF"
   },
   "outputs": [],
   "source": [
    "y_pred = main_model.predict(X_test)"
   ]
  },
  {
   "cell_type": "code",
   "execution_count": null,
   "metadata": {
    "id": "zDGKzUb6SUzF",
    "outputId": "4a8edbf2-cea3-470b-d01a-8ccdc2ed19a2"
   },
   "outputs": [],
   "source": [
    "stats(y_pred, y_test, log=True, rounded=1_000)"
   ]
  },
  {
   "cell_type": "code",
   "execution_count": null,
   "metadata": {
    "id": "UH-59rBRSUzF"
   },
   "outputs": [],
   "source": []
  },
  {
   "cell_type": "code",
   "execution_count": null,
   "metadata": {
    "id": "30HZCnfkSUzF"
   },
   "outputs": [],
   "source": [
    "pd.DataFrame(rf_random.cv_results_).sort_values(by=\"rank_test_score\").to_csv(\"randomized.csv\")"
   ]
  },
  {
   "cell_type": "code",
   "execution_count": null,
   "metadata": {
    "id": "9f9675o5SUzG",
    "outputId": "b93ad19e-ac7a-4d05-d9f7-83e224d376af"
   },
   "outputs": [],
   "source": [
    "pd.DataFrame(rf_random.cv_results_).sort_values(by=\"rank_test_score\").head()"
   ]
  },
  {
   "cell_type": "markdown",
   "metadata": {
    "id": "m-l9N6yiSUzG"
   },
   "source": [
    "# Best model"
   ]
  },
  {
   "cell_type": "code",
   "execution_count": 129,
   "metadata": {
    "id": "ztG_9HRASUzG",
    "outputId": "165b6f76-560f-4bf8-f506-f7acdf76a247"
   },
   "outputs": [
    {
     "data": {
      "text/html": [
       "<style>#sk-container-id-1 {\n",
       "  /* Definition of color scheme common for light and dark mode */\n",
       "  --sklearn-color-text: #000;\n",
       "  --sklearn-color-text-muted: #666;\n",
       "  --sklearn-color-line: gray;\n",
       "  /* Definition of color scheme for unfitted estimators */\n",
       "  --sklearn-color-unfitted-level-0: #fff5e6;\n",
       "  --sklearn-color-unfitted-level-1: #f6e4d2;\n",
       "  --sklearn-color-unfitted-level-2: #ffe0b3;\n",
       "  --sklearn-color-unfitted-level-3: chocolate;\n",
       "  /* Definition of color scheme for fitted estimators */\n",
       "  --sklearn-color-fitted-level-0: #f0f8ff;\n",
       "  --sklearn-color-fitted-level-1: #d4ebff;\n",
       "  --sklearn-color-fitted-level-2: #b3dbfd;\n",
       "  --sklearn-color-fitted-level-3: cornflowerblue;\n",
       "\n",
       "  /* Specific color for light theme */\n",
       "  --sklearn-color-text-on-default-background: var(--sg-text-color, var(--theme-code-foreground, var(--jp-content-font-color1, black)));\n",
       "  --sklearn-color-background: var(--sg-background-color, var(--theme-background, var(--jp-layout-color0, white)));\n",
       "  --sklearn-color-border-box: var(--sg-text-color, var(--theme-code-foreground, var(--jp-content-font-color1, black)));\n",
       "  --sklearn-color-icon: #696969;\n",
       "\n",
       "  @media (prefers-color-scheme: dark) {\n",
       "    /* Redefinition of color scheme for dark theme */\n",
       "    --sklearn-color-text-on-default-background: var(--sg-text-color, var(--theme-code-foreground, var(--jp-content-font-color1, white)));\n",
       "    --sklearn-color-background: var(--sg-background-color, var(--theme-background, var(--jp-layout-color0, #111)));\n",
       "    --sklearn-color-border-box: var(--sg-text-color, var(--theme-code-foreground, var(--jp-content-font-color1, white)));\n",
       "    --sklearn-color-icon: #878787;\n",
       "  }\n",
       "}\n",
       "\n",
       "#sk-container-id-1 {\n",
       "  color: var(--sklearn-color-text);\n",
       "}\n",
       "\n",
       "#sk-container-id-1 pre {\n",
       "  padding: 0;\n",
       "}\n",
       "\n",
       "#sk-container-id-1 input.sk-hidden--visually {\n",
       "  border: 0;\n",
       "  clip: rect(1px 1px 1px 1px);\n",
       "  clip: rect(1px, 1px, 1px, 1px);\n",
       "  height: 1px;\n",
       "  margin: -1px;\n",
       "  overflow: hidden;\n",
       "  padding: 0;\n",
       "  position: absolute;\n",
       "  width: 1px;\n",
       "}\n",
       "\n",
       "#sk-container-id-1 div.sk-dashed-wrapped {\n",
       "  border: 1px dashed var(--sklearn-color-line);\n",
       "  margin: 0 0.4em 0.5em 0.4em;\n",
       "  box-sizing: border-box;\n",
       "  padding-bottom: 0.4em;\n",
       "  background-color: var(--sklearn-color-background);\n",
       "}\n",
       "\n",
       "#sk-container-id-1 div.sk-container {\n",
       "  /* jupyter's `normalize.less` sets `[hidden] { display: none; }`\n",
       "     but bootstrap.min.css set `[hidden] { display: none !important; }`\n",
       "     so we also need the `!important` here to be able to override the\n",
       "     default hidden behavior on the sphinx rendered scikit-learn.org.\n",
       "     See: https://github.com/scikit-learn/scikit-learn/issues/21755 */\n",
       "  display: inline-block !important;\n",
       "  position: relative;\n",
       "}\n",
       "\n",
       "#sk-container-id-1 div.sk-text-repr-fallback {\n",
       "  display: none;\n",
       "}\n",
       "\n",
       "div.sk-parallel-item,\n",
       "div.sk-serial,\n",
       "div.sk-item {\n",
       "  /* draw centered vertical line to link estimators */\n",
       "  background-image: linear-gradient(var(--sklearn-color-text-on-default-background), var(--sklearn-color-text-on-default-background));\n",
       "  background-size: 2px 100%;\n",
       "  background-repeat: no-repeat;\n",
       "  background-position: center center;\n",
       "}\n",
       "\n",
       "/* Parallel-specific style estimator block */\n",
       "\n",
       "#sk-container-id-1 div.sk-parallel-item::after {\n",
       "  content: \"\";\n",
       "  width: 100%;\n",
       "  border-bottom: 2px solid var(--sklearn-color-text-on-default-background);\n",
       "  flex-grow: 1;\n",
       "}\n",
       "\n",
       "#sk-container-id-1 div.sk-parallel {\n",
       "  display: flex;\n",
       "  align-items: stretch;\n",
       "  justify-content: center;\n",
       "  background-color: var(--sklearn-color-background);\n",
       "  position: relative;\n",
       "}\n",
       "\n",
       "#sk-container-id-1 div.sk-parallel-item {\n",
       "  display: flex;\n",
       "  flex-direction: column;\n",
       "}\n",
       "\n",
       "#sk-container-id-1 div.sk-parallel-item:first-child::after {\n",
       "  align-self: flex-end;\n",
       "  width: 50%;\n",
       "}\n",
       "\n",
       "#sk-container-id-1 div.sk-parallel-item:last-child::after {\n",
       "  align-self: flex-start;\n",
       "  width: 50%;\n",
       "}\n",
       "\n",
       "#sk-container-id-1 div.sk-parallel-item:only-child::after {\n",
       "  width: 0;\n",
       "}\n",
       "\n",
       "/* Serial-specific style estimator block */\n",
       "\n",
       "#sk-container-id-1 div.sk-serial {\n",
       "  display: flex;\n",
       "  flex-direction: column;\n",
       "  align-items: center;\n",
       "  background-color: var(--sklearn-color-background);\n",
       "  padding-right: 1em;\n",
       "  padding-left: 1em;\n",
       "}\n",
       "\n",
       "\n",
       "/* Toggleable style: style used for estimator/Pipeline/ColumnTransformer box that is\n",
       "clickable and can be expanded/collapsed.\n",
       "- Pipeline and ColumnTransformer use this feature and define the default style\n",
       "- Estimators will overwrite some part of the style using the `sk-estimator` class\n",
       "*/\n",
       "\n",
       "/* Pipeline and ColumnTransformer style (default) */\n",
       "\n",
       "#sk-container-id-1 div.sk-toggleable {\n",
       "  /* Default theme specific background. It is overwritten whether we have a\n",
       "  specific estimator or a Pipeline/ColumnTransformer */\n",
       "  background-color: var(--sklearn-color-background);\n",
       "}\n",
       "\n",
       "/* Toggleable label */\n",
       "#sk-container-id-1 label.sk-toggleable__label {\n",
       "  cursor: pointer;\n",
       "  display: flex;\n",
       "  width: 100%;\n",
       "  margin-bottom: 0;\n",
       "  padding: 0.5em;\n",
       "  box-sizing: border-box;\n",
       "  text-align: center;\n",
       "  align-items: start;\n",
       "  justify-content: space-between;\n",
       "  gap: 0.5em;\n",
       "}\n",
       "\n",
       "#sk-container-id-1 label.sk-toggleable__label .caption {\n",
       "  font-size: 0.6rem;\n",
       "  font-weight: lighter;\n",
       "  color: var(--sklearn-color-text-muted);\n",
       "}\n",
       "\n",
       "#sk-container-id-1 label.sk-toggleable__label-arrow:before {\n",
       "  /* Arrow on the left of the label */\n",
       "  content: \"▸\";\n",
       "  float: left;\n",
       "  margin-right: 0.25em;\n",
       "  color: var(--sklearn-color-icon);\n",
       "}\n",
       "\n",
       "#sk-container-id-1 label.sk-toggleable__label-arrow:hover:before {\n",
       "  color: var(--sklearn-color-text);\n",
       "}\n",
       "\n",
       "/* Toggleable content - dropdown */\n",
       "\n",
       "#sk-container-id-1 div.sk-toggleable__content {\n",
       "  max-height: 0;\n",
       "  max-width: 0;\n",
       "  overflow: hidden;\n",
       "  text-align: left;\n",
       "  /* unfitted */\n",
       "  background-color: var(--sklearn-color-unfitted-level-0);\n",
       "}\n",
       "\n",
       "#sk-container-id-1 div.sk-toggleable__content.fitted {\n",
       "  /* fitted */\n",
       "  background-color: var(--sklearn-color-fitted-level-0);\n",
       "}\n",
       "\n",
       "#sk-container-id-1 div.sk-toggleable__content pre {\n",
       "  margin: 0.2em;\n",
       "  border-radius: 0.25em;\n",
       "  color: var(--sklearn-color-text);\n",
       "  /* unfitted */\n",
       "  background-color: var(--sklearn-color-unfitted-level-0);\n",
       "}\n",
       "\n",
       "#sk-container-id-1 div.sk-toggleable__content.fitted pre {\n",
       "  /* unfitted */\n",
       "  background-color: var(--sklearn-color-fitted-level-0);\n",
       "}\n",
       "\n",
       "#sk-container-id-1 input.sk-toggleable__control:checked~div.sk-toggleable__content {\n",
       "  /* Expand drop-down */\n",
       "  max-height: 200px;\n",
       "  max-width: 100%;\n",
       "  overflow: auto;\n",
       "}\n",
       "\n",
       "#sk-container-id-1 input.sk-toggleable__control:checked~label.sk-toggleable__label-arrow:before {\n",
       "  content: \"▾\";\n",
       "}\n",
       "\n",
       "/* Pipeline/ColumnTransformer-specific style */\n",
       "\n",
       "#sk-container-id-1 div.sk-label input.sk-toggleable__control:checked~label.sk-toggleable__label {\n",
       "  color: var(--sklearn-color-text);\n",
       "  background-color: var(--sklearn-color-unfitted-level-2);\n",
       "}\n",
       "\n",
       "#sk-container-id-1 div.sk-label.fitted input.sk-toggleable__control:checked~label.sk-toggleable__label {\n",
       "  background-color: var(--sklearn-color-fitted-level-2);\n",
       "}\n",
       "\n",
       "/* Estimator-specific style */\n",
       "\n",
       "/* Colorize estimator box */\n",
       "#sk-container-id-1 div.sk-estimator input.sk-toggleable__control:checked~label.sk-toggleable__label {\n",
       "  /* unfitted */\n",
       "  background-color: var(--sklearn-color-unfitted-level-2);\n",
       "}\n",
       "\n",
       "#sk-container-id-1 div.sk-estimator.fitted input.sk-toggleable__control:checked~label.sk-toggleable__label {\n",
       "  /* fitted */\n",
       "  background-color: var(--sklearn-color-fitted-level-2);\n",
       "}\n",
       "\n",
       "#sk-container-id-1 div.sk-label label.sk-toggleable__label,\n",
       "#sk-container-id-1 div.sk-label label {\n",
       "  /* The background is the default theme color */\n",
       "  color: var(--sklearn-color-text-on-default-background);\n",
       "}\n",
       "\n",
       "/* On hover, darken the color of the background */\n",
       "#sk-container-id-1 div.sk-label:hover label.sk-toggleable__label {\n",
       "  color: var(--sklearn-color-text);\n",
       "  background-color: var(--sklearn-color-unfitted-level-2);\n",
       "}\n",
       "\n",
       "/* Label box, darken color on hover, fitted */\n",
       "#sk-container-id-1 div.sk-label.fitted:hover label.sk-toggleable__label.fitted {\n",
       "  color: var(--sklearn-color-text);\n",
       "  background-color: var(--sklearn-color-fitted-level-2);\n",
       "}\n",
       "\n",
       "/* Estimator label */\n",
       "\n",
       "#sk-container-id-1 div.sk-label label {\n",
       "  font-family: monospace;\n",
       "  font-weight: bold;\n",
       "  display: inline-block;\n",
       "  line-height: 1.2em;\n",
       "}\n",
       "\n",
       "#sk-container-id-1 div.sk-label-container {\n",
       "  text-align: center;\n",
       "}\n",
       "\n",
       "/* Estimator-specific */\n",
       "#sk-container-id-1 div.sk-estimator {\n",
       "  font-family: monospace;\n",
       "  border: 1px dotted var(--sklearn-color-border-box);\n",
       "  border-radius: 0.25em;\n",
       "  box-sizing: border-box;\n",
       "  margin-bottom: 0.5em;\n",
       "  /* unfitted */\n",
       "  background-color: var(--sklearn-color-unfitted-level-0);\n",
       "}\n",
       "\n",
       "#sk-container-id-1 div.sk-estimator.fitted {\n",
       "  /* fitted */\n",
       "  background-color: var(--sklearn-color-fitted-level-0);\n",
       "}\n",
       "\n",
       "/* on hover */\n",
       "#sk-container-id-1 div.sk-estimator:hover {\n",
       "  /* unfitted */\n",
       "  background-color: var(--sklearn-color-unfitted-level-2);\n",
       "}\n",
       "\n",
       "#sk-container-id-1 div.sk-estimator.fitted:hover {\n",
       "  /* fitted */\n",
       "  background-color: var(--sklearn-color-fitted-level-2);\n",
       "}\n",
       "\n",
       "/* Specification for estimator info (e.g. \"i\" and \"?\") */\n",
       "\n",
       "/* Common style for \"i\" and \"?\" */\n",
       "\n",
       ".sk-estimator-doc-link,\n",
       "a:link.sk-estimator-doc-link,\n",
       "a:visited.sk-estimator-doc-link {\n",
       "  float: right;\n",
       "  font-size: smaller;\n",
       "  line-height: 1em;\n",
       "  font-family: monospace;\n",
       "  background-color: var(--sklearn-color-background);\n",
       "  border-radius: 1em;\n",
       "  height: 1em;\n",
       "  width: 1em;\n",
       "  text-decoration: none !important;\n",
       "  margin-left: 0.5em;\n",
       "  text-align: center;\n",
       "  /* unfitted */\n",
       "  border: var(--sklearn-color-unfitted-level-1) 1pt solid;\n",
       "  color: var(--sklearn-color-unfitted-level-1);\n",
       "}\n",
       "\n",
       ".sk-estimator-doc-link.fitted,\n",
       "a:link.sk-estimator-doc-link.fitted,\n",
       "a:visited.sk-estimator-doc-link.fitted {\n",
       "  /* fitted */\n",
       "  border: var(--sklearn-color-fitted-level-1) 1pt solid;\n",
       "  color: var(--sklearn-color-fitted-level-1);\n",
       "}\n",
       "\n",
       "/* On hover */\n",
       "div.sk-estimator:hover .sk-estimator-doc-link:hover,\n",
       ".sk-estimator-doc-link:hover,\n",
       "div.sk-label-container:hover .sk-estimator-doc-link:hover,\n",
       ".sk-estimator-doc-link:hover {\n",
       "  /* unfitted */\n",
       "  background-color: var(--sklearn-color-unfitted-level-3);\n",
       "  color: var(--sklearn-color-background);\n",
       "  text-decoration: none;\n",
       "}\n",
       "\n",
       "div.sk-estimator.fitted:hover .sk-estimator-doc-link.fitted:hover,\n",
       ".sk-estimator-doc-link.fitted:hover,\n",
       "div.sk-label-container:hover .sk-estimator-doc-link.fitted:hover,\n",
       ".sk-estimator-doc-link.fitted:hover {\n",
       "  /* fitted */\n",
       "  background-color: var(--sklearn-color-fitted-level-3);\n",
       "  color: var(--sklearn-color-background);\n",
       "  text-decoration: none;\n",
       "}\n",
       "\n",
       "/* Span, style for the box shown on hovering the info icon */\n",
       ".sk-estimator-doc-link span {\n",
       "  display: none;\n",
       "  z-index: 9999;\n",
       "  position: relative;\n",
       "  font-weight: normal;\n",
       "  right: .2ex;\n",
       "  padding: .5ex;\n",
       "  margin: .5ex;\n",
       "  width: min-content;\n",
       "  min-width: 20ex;\n",
       "  max-width: 50ex;\n",
       "  color: var(--sklearn-color-text);\n",
       "  box-shadow: 2pt 2pt 4pt #999;\n",
       "  /* unfitted */\n",
       "  background: var(--sklearn-color-unfitted-level-0);\n",
       "  border: .5pt solid var(--sklearn-color-unfitted-level-3);\n",
       "}\n",
       "\n",
       ".sk-estimator-doc-link.fitted span {\n",
       "  /* fitted */\n",
       "  background: var(--sklearn-color-fitted-level-0);\n",
       "  border: var(--sklearn-color-fitted-level-3);\n",
       "}\n",
       "\n",
       ".sk-estimator-doc-link:hover span {\n",
       "  display: block;\n",
       "}\n",
       "\n",
       "/* \"?\"-specific style due to the `<a>` HTML tag */\n",
       "\n",
       "#sk-container-id-1 a.estimator_doc_link {\n",
       "  float: right;\n",
       "  font-size: 1rem;\n",
       "  line-height: 1em;\n",
       "  font-family: monospace;\n",
       "  background-color: var(--sklearn-color-background);\n",
       "  border-radius: 1rem;\n",
       "  height: 1rem;\n",
       "  width: 1rem;\n",
       "  text-decoration: none;\n",
       "  /* unfitted */\n",
       "  color: var(--sklearn-color-unfitted-level-1);\n",
       "  border: var(--sklearn-color-unfitted-level-1) 1pt solid;\n",
       "}\n",
       "\n",
       "#sk-container-id-1 a.estimator_doc_link.fitted {\n",
       "  /* fitted */\n",
       "  border: var(--sklearn-color-fitted-level-1) 1pt solid;\n",
       "  color: var(--sklearn-color-fitted-level-1);\n",
       "}\n",
       "\n",
       "/* On hover */\n",
       "#sk-container-id-1 a.estimator_doc_link:hover {\n",
       "  /* unfitted */\n",
       "  background-color: var(--sklearn-color-unfitted-level-3);\n",
       "  color: var(--sklearn-color-background);\n",
       "  text-decoration: none;\n",
       "}\n",
       "\n",
       "#sk-container-id-1 a.estimator_doc_link.fitted:hover {\n",
       "  /* fitted */\n",
       "  background-color: var(--sklearn-color-fitted-level-3);\n",
       "}\n",
       "</style><div id=\"sk-container-id-1\" class=\"sk-top-container\"><div class=\"sk-text-repr-fallback\"><pre>RandomForestRegressor(bootstrap=False, max_features=&#x27;sqrt&#x27;, min_samples_split=5,\n",
       "                      n_estimators=300, n_jobs=-1)</pre><b>In a Jupyter environment, please rerun this cell to show the HTML representation or trust the notebook. <br />On GitHub, the HTML representation is unable to render, please try loading this page with nbviewer.org.</b></div><div class=\"sk-container\" hidden><div class=\"sk-item\"><div class=\"sk-estimator fitted sk-toggleable\"><input class=\"sk-toggleable__control sk-hidden--visually\" id=\"sk-estimator-id-1\" type=\"checkbox\" checked><label for=\"sk-estimator-id-1\" class=\"sk-toggleable__label fitted sk-toggleable__label-arrow\"><div><div>RandomForestRegressor</div></div><div><a class=\"sk-estimator-doc-link fitted\" rel=\"noreferrer\" target=\"_blank\" href=\"https://scikit-learn.org/1.6/modules/generated/sklearn.ensemble.RandomForestRegressor.html\">?<span>Documentation for RandomForestRegressor</span></a><span class=\"sk-estimator-doc-link fitted\">i<span>Fitted</span></span></div></label><div class=\"sk-toggleable__content fitted\"><pre>RandomForestRegressor(bootstrap=False, max_features=&#x27;sqrt&#x27;, min_samples_split=5,\n",
       "                      n_estimators=300, n_jobs=-1)</pre></div> </div></div></div></div>"
      ],
      "text/plain": [
       "RandomForestRegressor(bootstrap=False, max_features='sqrt', min_samples_split=5,\n",
       "                      n_estimators=300, n_jobs=-1)"
      ]
     },
     "execution_count": 129,
     "metadata": {},
     "output_type": "execute_result"
    }
   ],
   "source": [
    "best_model = RandomForestRegressor(n_estimators=300, min_samples_split=5, max_features='sqrt', max_depth=None, bootstrap=False, n_jobs=-1)\n",
    "best_model.fit(X_train, y_train)"
   ]
  },
  {
   "cell_type": "code",
   "execution_count": 130,
   "metadata": {
    "id": "9_d8pJsZSUzG",
    "outputId": "0873865a-f877-4123-81fa-7aac7e7cb98d"
   },
   "outputs": [
    {
     "data": {
      "text/plain": [
       "MSE     1.635527e+12\n",
       "MAE     2.815644e+05\n",
       "MAPE    1.147195e-01\n",
       "RMSE    1.278877e+06\n",
       "R2      8.280094e-01\n",
       "dtype: float64"
      ]
     },
     "execution_count": 130,
     "metadata": {},
     "output_type": "execute_result"
    }
   ],
   "source": [
    "stats(best_model.predict(X_test), y_test, log=True)"
   ]
  },
  {
   "cell_type": "code",
   "execution_count": 131,
   "metadata": {
    "id": "00llctHoSUzG",
    "outputId": "3ceb8fba-b520-42c3-b943-a368a90e90d2"
   },
   "outputs": [
    {
     "data": {
      "text/plain": [
       "MSE     1.417488e+12\n",
       "MAE     2.513071e+05\n",
       "MAPE    1.070534e-01\n",
       "RMSE    1.190583e+06\n",
       "R2      8.680464e-01\n",
       "dtype: float64"
      ]
     },
     "execution_count": 131,
     "metadata": {},
     "output_type": "execute_result"
    }
   ],
   "source": [
    "random_rfr = RandomForestRegressor(n_jobs=-1)\n",
    "random_rfr.fit(X_train, y_train)\n",
    "y_pred = random_rfr.predict(X_test)\n",
    "stats(y_pred, y_test, log=True)"
   ]
  },
  {
   "cell_type": "code",
   "execution_count": null,
   "metadata": {},
   "outputs": [],
   "source": []
  }
 ],
 "metadata": {
  "colab": {
   "authorship_tag": "ABX9TyOlW+jlV79ohUVldXCHHzXK",
   "mount_file_id": "1LOmw15e7bsqTvMVJQ7es-0PXKPApVprO",
   "provenance": []
  },
  "kernelspec": {
   "display_name": "Python 3 (ipykernel)",
   "language": "python",
   "name": "python3"
  },
  "language_info": {
   "codemirror_mode": {
    "name": "ipython",
    "version": 3
   },
   "file_extension": ".py",
   "mimetype": "text/x-python",
   "name": "python",
   "nbconvert_exporter": "python",
   "pygments_lexer": "ipython3",
   "version": "3.13.1"
  }
 },
 "nbformat": 4,
 "nbformat_minor": 4
}
